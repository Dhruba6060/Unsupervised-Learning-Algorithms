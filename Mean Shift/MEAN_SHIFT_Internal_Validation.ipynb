{
  "cells": [
    {
      "cell_type": "code",
      "execution_count": null,
      "metadata": {
        "colab": {
          "base_uri": "https://localhost:8080/"
        },
        "id": "oo-ZgG65l-yq",
        "outputId": "6e27ea69-dcc9-4255-d86b-377b0f9813fc"
      },
      "outputs": [
        {
          "name": "stdout",
          "output_type": "stream",
          "text": [
            "Mounted at /content/drive\n"
          ]
        }
      ],
      "source": [
        "from google.colab import drive\n",
        "drive.mount('/content/drive')"
      ]
    },
    {
      "cell_type": "code",
      "execution_count": null,
      "metadata": {
        "id": "kjTLablRnIay"
      },
      "outputs": [],
      "source": [
        "import numpy as np\n",
        "import pandas as pd \n",
        "import seaborn as sn\n",
        "%matplotlib inline\n",
        "sn.set()\n",
        "import warnings\n",
        "warnings.filterwarnings('ignore')\n"
      ]
    },
    {
      "cell_type": "code",
      "execution_count": null,
      "metadata": {
        "colab": {
          "base_uri": "https://localhost:8080/",
          "height": 488
        },
        "id": "UsuqObuYnavr",
        "outputId": "d7a6f57f-7f9f-43ac-81f1-8a38bf8dc2c1"
      },
      "outputs": [
        {
          "output_type": "execute_result",
          "data": {
            "text/plain": [
              "        MI_dir_L5_weight  MI_dir_L5_mean  MI_dir_L5_variance  \\\n",
              "0               1.000000      566.000000        0.000000e+00   \n",
              "1               1.996585      566.000000        5.820000e-11   \n",
              "2               2.958989      566.000000        0.000000e+00   \n",
              "3               3.958979      566.000000        0.000000e+00   \n",
              "4               4.914189      566.000000        1.160000e-10   \n",
              "...                  ...             ...                 ...   \n",
              "279987         39.256165      504.003978        2.219839e+04   \n",
              "279988         40.255905      505.245933        2.170751e+04   \n",
              "279989         41.255606      506.427690        2.123756e+04   \n",
              "279990         42.255469      507.553516        2.078725e+04   \n",
              "279991         43.240249      508.627665        2.035525e+04   \n",
              "\n",
              "        MI_dir_L3_weight  MI_dir_L3_mean  MI_dir_L3_variance  \\\n",
              "0               1.000000      566.000000        0.000000e+00   \n",
              "1               1.997950      566.000000        5.820000e-11   \n",
              "2               2.975291      566.000000        5.820000e-11   \n",
              "3               3.975285      566.000000        0.000000e+00   \n",
              "4               4.948239      566.000000        5.820000e-11   \n",
              "...                  ...             ...                 ...   \n",
              "279987         66.495961      426.545257        4.671683e+04   \n",
              "279988         67.495697      428.433595        4.626179e+04   \n",
              "279989         68.495396      430.266805        4.581322e+04   \n",
              "279990         69.495260      432.047260        4.537113e+04   \n",
              "279991         70.480240      433.777571        4.493541e+04   \n",
              "\n",
              "        MI_dir_L1_weight  MI_dir_L1_mean  MI_dir_L1_variance  \\\n",
              "0               1.000000      566.000000        0.000000e+00   \n",
              "1               1.999316      566.000000        0.000000e+00   \n",
              "2               2.991729      566.000000        5.820000e-11   \n",
              "3               3.991727      566.000000        1.160000e-10   \n",
              "4               4.982654      566.000000        5.820000e-11   \n",
              "...                  ...             ...                 ...   \n",
              "279987        259.096457      328.198231        6.054598e+04   \n",
              "279988        260.096115      329.066378        6.050847e+04   \n",
              "279989        261.095728      329.927877        6.046976e+04   \n",
              "279990        262.095555      330.782802        6.042988e+04   \n",
              "279991        263.076671      331.631290        6.038885e+04   \n",
              "\n",
              "        MI_dir_L0.1_weight  ...  HpHp_L0.1_radius  HpHp_L0.1_covariance  \\\n",
              "0                 1.000000  ...      0.000000e+00                   0.0   \n",
              "1                 1.999932  ...      0.000000e+00                   0.0   \n",
              "2                 2.999171  ...      0.000000e+00                   0.0   \n",
              "3                 3.999171  ...      0.000000e+00                   0.0   \n",
              "4                 4.998261  ...      0.000000e+00                   0.0   \n",
              "...                    ...  ...               ...                   ...   \n",
              "279987         2788.201337  ...      5.240000e-10                   0.0   \n",
              "279988         2789.200968  ...      4.660000e-10                   0.0   \n",
              "279989         2790.200553  ...      5.240000e-10                   0.0   \n",
              "279990         2791.200369  ...      4.660000e-10                   0.0   \n",
              "279991         2792.180258  ...      4.660000e-10                   0.0   \n",
              "\n",
              "        HpHp_L0.1_pcc  HpHp_L0.01_weight  HpHp_L0.01_mean  HpHp_L0.01_std  \\\n",
              "0                 0.0           1.000000            566.0        0.000000   \n",
              "1                 0.0           1.000000            566.0        0.000000   \n",
              "2                 0.0           1.000000            566.0        0.000000   \n",
              "3                 0.0           1.000000            566.0        0.000000   \n",
              "4                 0.0           1.000000            566.0        0.000000   \n",
              "...               ...                ...              ...             ...   \n",
              "279987            0.0        3132.118867            554.0        0.000037   \n",
              "279988            0.0        3133.118826            554.0        0.000037   \n",
              "279989            0.0        3134.118779            554.0        0.000037   \n",
              "279990            0.0        3135.118758            554.0        0.000039   \n",
              "279991            0.0        3136.116499            554.0        0.000037   \n",
              "\n",
              "        HpHp_L0.01_magnitude  HpHp_L0.01_radius  HpHp_L0.01_covariance  \\\n",
              "0                      566.0       0.000000e+00                    0.0   \n",
              "1                      566.0       0.000000e+00                    0.0   \n",
              "2                      566.0       0.000000e+00                    0.0   \n",
              "3                      566.0       0.000000e+00                    0.0   \n",
              "4                      566.0       0.000000e+00                    0.0   \n",
              "...                      ...                ...                    ...   \n",
              "279987                 554.0       1.400000e-09                    0.0   \n",
              "279988                 554.0       1.400000e-09                    0.0   \n",
              "279989                 554.0       1.400000e-09                    0.0   \n",
              "279990                 554.0       1.510000e-09                    0.0   \n",
              "279991                 554.0       1.400000e-09                    0.0   \n",
              "\n",
              "        HpHp_L0.01_pcc  \n",
              "0                  0.0  \n",
              "1                  0.0  \n",
              "2                  0.0  \n",
              "3                  0.0  \n",
              "4                  0.0  \n",
              "...                ...  \n",
              "279987             0.0  \n",
              "279988             0.0  \n",
              "279989             0.0  \n",
              "279990             0.0  \n",
              "279991             0.0  \n",
              "\n",
              "[279992 rows x 115 columns]"
            ],
            "text/html": [
              "\n",
              "  <div id=\"df-4301df10-e2e1-409f-9769-bf7a06d6c6ca\">\n",
              "    <div class=\"colab-df-container\">\n",
              "      <div>\n",
              "<style scoped>\n",
              "    .dataframe tbody tr th:only-of-type {\n",
              "        vertical-align: middle;\n",
              "    }\n",
              "\n",
              "    .dataframe tbody tr th {\n",
              "        vertical-align: top;\n",
              "    }\n",
              "\n",
              "    .dataframe thead th {\n",
              "        text-align: right;\n",
              "    }\n",
              "</style>\n",
              "<table border=\"1\" class=\"dataframe\">\n",
              "  <thead>\n",
              "    <tr style=\"text-align: right;\">\n",
              "      <th></th>\n",
              "      <th>MI_dir_L5_weight</th>\n",
              "      <th>MI_dir_L5_mean</th>\n",
              "      <th>MI_dir_L5_variance</th>\n",
              "      <th>MI_dir_L3_weight</th>\n",
              "      <th>MI_dir_L3_mean</th>\n",
              "      <th>MI_dir_L3_variance</th>\n",
              "      <th>MI_dir_L1_weight</th>\n",
              "      <th>MI_dir_L1_mean</th>\n",
              "      <th>MI_dir_L1_variance</th>\n",
              "      <th>MI_dir_L0.1_weight</th>\n",
              "      <th>...</th>\n",
              "      <th>HpHp_L0.1_radius</th>\n",
              "      <th>HpHp_L0.1_covariance</th>\n",
              "      <th>HpHp_L0.1_pcc</th>\n",
              "      <th>HpHp_L0.01_weight</th>\n",
              "      <th>HpHp_L0.01_mean</th>\n",
              "      <th>HpHp_L0.01_std</th>\n",
              "      <th>HpHp_L0.01_magnitude</th>\n",
              "      <th>HpHp_L0.01_radius</th>\n",
              "      <th>HpHp_L0.01_covariance</th>\n",
              "      <th>HpHp_L0.01_pcc</th>\n",
              "    </tr>\n",
              "  </thead>\n",
              "  <tbody>\n",
              "    <tr>\n",
              "      <th>0</th>\n",
              "      <td>1.000000</td>\n",
              "      <td>566.000000</td>\n",
              "      <td>0.000000e+00</td>\n",
              "      <td>1.000000</td>\n",
              "      <td>566.000000</td>\n",
              "      <td>0.000000e+00</td>\n",
              "      <td>1.000000</td>\n",
              "      <td>566.000000</td>\n",
              "      <td>0.000000e+00</td>\n",
              "      <td>1.000000</td>\n",
              "      <td>...</td>\n",
              "      <td>0.000000e+00</td>\n",
              "      <td>0.0</td>\n",
              "      <td>0.0</td>\n",
              "      <td>1.000000</td>\n",
              "      <td>566.0</td>\n",
              "      <td>0.000000</td>\n",
              "      <td>566.0</td>\n",
              "      <td>0.000000e+00</td>\n",
              "      <td>0.0</td>\n",
              "      <td>0.0</td>\n",
              "    </tr>\n",
              "    <tr>\n",
              "      <th>1</th>\n",
              "      <td>1.996585</td>\n",
              "      <td>566.000000</td>\n",
              "      <td>5.820000e-11</td>\n",
              "      <td>1.997950</td>\n",
              "      <td>566.000000</td>\n",
              "      <td>5.820000e-11</td>\n",
              "      <td>1.999316</td>\n",
              "      <td>566.000000</td>\n",
              "      <td>0.000000e+00</td>\n",
              "      <td>1.999932</td>\n",
              "      <td>...</td>\n",
              "      <td>0.000000e+00</td>\n",
              "      <td>0.0</td>\n",
              "      <td>0.0</td>\n",
              "      <td>1.000000</td>\n",
              "      <td>566.0</td>\n",
              "      <td>0.000000</td>\n",
              "      <td>566.0</td>\n",
              "      <td>0.000000e+00</td>\n",
              "      <td>0.0</td>\n",
              "      <td>0.0</td>\n",
              "    </tr>\n",
              "    <tr>\n",
              "      <th>2</th>\n",
              "      <td>2.958989</td>\n",
              "      <td>566.000000</td>\n",
              "      <td>0.000000e+00</td>\n",
              "      <td>2.975291</td>\n",
              "      <td>566.000000</td>\n",
              "      <td>5.820000e-11</td>\n",
              "      <td>2.991729</td>\n",
              "      <td>566.000000</td>\n",
              "      <td>5.820000e-11</td>\n",
              "      <td>2.999171</td>\n",
              "      <td>...</td>\n",
              "      <td>0.000000e+00</td>\n",
              "      <td>0.0</td>\n",
              "      <td>0.0</td>\n",
              "      <td>1.000000</td>\n",
              "      <td>566.0</td>\n",
              "      <td>0.000000</td>\n",
              "      <td>566.0</td>\n",
              "      <td>0.000000e+00</td>\n",
              "      <td>0.0</td>\n",
              "      <td>0.0</td>\n",
              "    </tr>\n",
              "    <tr>\n",
              "      <th>3</th>\n",
              "      <td>3.958979</td>\n",
              "      <td>566.000000</td>\n",
              "      <td>0.000000e+00</td>\n",
              "      <td>3.975285</td>\n",
              "      <td>566.000000</td>\n",
              "      <td>0.000000e+00</td>\n",
              "      <td>3.991727</td>\n",
              "      <td>566.000000</td>\n",
              "      <td>1.160000e-10</td>\n",
              "      <td>3.999171</td>\n",
              "      <td>...</td>\n",
              "      <td>0.000000e+00</td>\n",
              "      <td>0.0</td>\n",
              "      <td>0.0</td>\n",
              "      <td>1.000000</td>\n",
              "      <td>566.0</td>\n",
              "      <td>0.000000</td>\n",
              "      <td>566.0</td>\n",
              "      <td>0.000000e+00</td>\n",
              "      <td>0.0</td>\n",
              "      <td>0.0</td>\n",
              "    </tr>\n",
              "    <tr>\n",
              "      <th>4</th>\n",
              "      <td>4.914189</td>\n",
              "      <td>566.000000</td>\n",
              "      <td>1.160000e-10</td>\n",
              "      <td>4.948239</td>\n",
              "      <td>566.000000</td>\n",
              "      <td>5.820000e-11</td>\n",
              "      <td>4.982654</td>\n",
              "      <td>566.000000</td>\n",
              "      <td>5.820000e-11</td>\n",
              "      <td>4.998261</td>\n",
              "      <td>...</td>\n",
              "      <td>0.000000e+00</td>\n",
              "      <td>0.0</td>\n",
              "      <td>0.0</td>\n",
              "      <td>1.000000</td>\n",
              "      <td>566.0</td>\n",
              "      <td>0.000000</td>\n",
              "      <td>566.0</td>\n",
              "      <td>0.000000e+00</td>\n",
              "      <td>0.0</td>\n",
              "      <td>0.0</td>\n",
              "    </tr>\n",
              "    <tr>\n",
              "      <th>...</th>\n",
              "      <td>...</td>\n",
              "      <td>...</td>\n",
              "      <td>...</td>\n",
              "      <td>...</td>\n",
              "      <td>...</td>\n",
              "      <td>...</td>\n",
              "      <td>...</td>\n",
              "      <td>...</td>\n",
              "      <td>...</td>\n",
              "      <td>...</td>\n",
              "      <td>...</td>\n",
              "      <td>...</td>\n",
              "      <td>...</td>\n",
              "      <td>...</td>\n",
              "      <td>...</td>\n",
              "      <td>...</td>\n",
              "      <td>...</td>\n",
              "      <td>...</td>\n",
              "      <td>...</td>\n",
              "      <td>...</td>\n",
              "      <td>...</td>\n",
              "    </tr>\n",
              "    <tr>\n",
              "      <th>279987</th>\n",
              "      <td>39.256165</td>\n",
              "      <td>504.003978</td>\n",
              "      <td>2.219839e+04</td>\n",
              "      <td>66.495961</td>\n",
              "      <td>426.545257</td>\n",
              "      <td>4.671683e+04</td>\n",
              "      <td>259.096457</td>\n",
              "      <td>328.198231</td>\n",
              "      <td>6.054598e+04</td>\n",
              "      <td>2788.201337</td>\n",
              "      <td>...</td>\n",
              "      <td>5.240000e-10</td>\n",
              "      <td>0.0</td>\n",
              "      <td>0.0</td>\n",
              "      <td>3132.118867</td>\n",
              "      <td>554.0</td>\n",
              "      <td>0.000037</td>\n",
              "      <td>554.0</td>\n",
              "      <td>1.400000e-09</td>\n",
              "      <td>0.0</td>\n",
              "      <td>0.0</td>\n",
              "    </tr>\n",
              "    <tr>\n",
              "      <th>279988</th>\n",
              "      <td>40.255905</td>\n",
              "      <td>505.245933</td>\n",
              "      <td>2.170751e+04</td>\n",
              "      <td>67.495697</td>\n",
              "      <td>428.433595</td>\n",
              "      <td>4.626179e+04</td>\n",
              "      <td>260.096115</td>\n",
              "      <td>329.066378</td>\n",
              "      <td>6.050847e+04</td>\n",
              "      <td>2789.200968</td>\n",
              "      <td>...</td>\n",
              "      <td>4.660000e-10</td>\n",
              "      <td>0.0</td>\n",
              "      <td>0.0</td>\n",
              "      <td>3133.118826</td>\n",
              "      <td>554.0</td>\n",
              "      <td>0.000037</td>\n",
              "      <td>554.0</td>\n",
              "      <td>1.400000e-09</td>\n",
              "      <td>0.0</td>\n",
              "      <td>0.0</td>\n",
              "    </tr>\n",
              "    <tr>\n",
              "      <th>279989</th>\n",
              "      <td>41.255606</td>\n",
              "      <td>506.427690</td>\n",
              "      <td>2.123756e+04</td>\n",
              "      <td>68.495396</td>\n",
              "      <td>430.266805</td>\n",
              "      <td>4.581322e+04</td>\n",
              "      <td>261.095728</td>\n",
              "      <td>329.927877</td>\n",
              "      <td>6.046976e+04</td>\n",
              "      <td>2790.200553</td>\n",
              "      <td>...</td>\n",
              "      <td>5.240000e-10</td>\n",
              "      <td>0.0</td>\n",
              "      <td>0.0</td>\n",
              "      <td>3134.118779</td>\n",
              "      <td>554.0</td>\n",
              "      <td>0.000037</td>\n",
              "      <td>554.0</td>\n",
              "      <td>1.400000e-09</td>\n",
              "      <td>0.0</td>\n",
              "      <td>0.0</td>\n",
              "    </tr>\n",
              "    <tr>\n",
              "      <th>279990</th>\n",
              "      <td>42.255469</td>\n",
              "      <td>507.553516</td>\n",
              "      <td>2.078725e+04</td>\n",
              "      <td>69.495260</td>\n",
              "      <td>432.047260</td>\n",
              "      <td>4.537113e+04</td>\n",
              "      <td>262.095555</td>\n",
              "      <td>330.782802</td>\n",
              "      <td>6.042988e+04</td>\n",
              "      <td>2791.200369</td>\n",
              "      <td>...</td>\n",
              "      <td>4.660000e-10</td>\n",
              "      <td>0.0</td>\n",
              "      <td>0.0</td>\n",
              "      <td>3135.118758</td>\n",
              "      <td>554.0</td>\n",
              "      <td>0.000039</td>\n",
              "      <td>554.0</td>\n",
              "      <td>1.510000e-09</td>\n",
              "      <td>0.0</td>\n",
              "      <td>0.0</td>\n",
              "    </tr>\n",
              "    <tr>\n",
              "      <th>279991</th>\n",
              "      <td>43.240249</td>\n",
              "      <td>508.627665</td>\n",
              "      <td>2.035525e+04</td>\n",
              "      <td>70.480240</td>\n",
              "      <td>433.777571</td>\n",
              "      <td>4.493541e+04</td>\n",
              "      <td>263.076671</td>\n",
              "      <td>331.631290</td>\n",
              "      <td>6.038885e+04</td>\n",
              "      <td>2792.180258</td>\n",
              "      <td>...</td>\n",
              "      <td>4.660000e-10</td>\n",
              "      <td>0.0</td>\n",
              "      <td>0.0</td>\n",
              "      <td>3136.116499</td>\n",
              "      <td>554.0</td>\n",
              "      <td>0.000037</td>\n",
              "      <td>554.0</td>\n",
              "      <td>1.400000e-09</td>\n",
              "      <td>0.0</td>\n",
              "      <td>0.0</td>\n",
              "    </tr>\n",
              "  </tbody>\n",
              "</table>\n",
              "<p>279992 rows × 115 columns</p>\n",
              "</div>\n",
              "      <button class=\"colab-df-convert\" onclick=\"convertToInteractive('df-4301df10-e2e1-409f-9769-bf7a06d6c6ca')\"\n",
              "              title=\"Convert this dataframe to an interactive table.\"\n",
              "              style=\"display:none;\">\n",
              "        \n",
              "  <svg xmlns=\"http://www.w3.org/2000/svg\" height=\"24px\"viewBox=\"0 0 24 24\"\n",
              "       width=\"24px\">\n",
              "    <path d=\"M0 0h24v24H0V0z\" fill=\"none\"/>\n",
              "    <path d=\"M18.56 5.44l.94 2.06.94-2.06 2.06-.94-2.06-.94-.94-2.06-.94 2.06-2.06.94zm-11 1L8.5 8.5l.94-2.06 2.06-.94-2.06-.94L8.5 2.5l-.94 2.06-2.06.94zm10 10l.94 2.06.94-2.06 2.06-.94-2.06-.94-.94-2.06-.94 2.06-2.06.94z\"/><path d=\"M17.41 7.96l-1.37-1.37c-.4-.4-.92-.59-1.43-.59-.52 0-1.04.2-1.43.59L10.3 9.45l-7.72 7.72c-.78.78-.78 2.05 0 2.83L4 21.41c.39.39.9.59 1.41.59.51 0 1.02-.2 1.41-.59l7.78-7.78 2.81-2.81c.8-.78.8-2.07 0-2.86zM5.41 20L4 18.59l7.72-7.72 1.47 1.35L5.41 20z\"/>\n",
              "  </svg>\n",
              "      </button>\n",
              "      \n",
              "  <style>\n",
              "    .colab-df-container {\n",
              "      display:flex;\n",
              "      flex-wrap:wrap;\n",
              "      gap: 12px;\n",
              "    }\n",
              "\n",
              "    .colab-df-convert {\n",
              "      background-color: #E8F0FE;\n",
              "      border: none;\n",
              "      border-radius: 50%;\n",
              "      cursor: pointer;\n",
              "      display: none;\n",
              "      fill: #1967D2;\n",
              "      height: 32px;\n",
              "      padding: 0 0 0 0;\n",
              "      width: 32px;\n",
              "    }\n",
              "\n",
              "    .colab-df-convert:hover {\n",
              "      background-color: #E2EBFA;\n",
              "      box-shadow: 0px 1px 2px rgba(60, 64, 67, 0.3), 0px 1px 3px 1px rgba(60, 64, 67, 0.15);\n",
              "      fill: #174EA6;\n",
              "    }\n",
              "\n",
              "    [theme=dark] .colab-df-convert {\n",
              "      background-color: #3B4455;\n",
              "      fill: #D2E3FC;\n",
              "    }\n",
              "\n",
              "    [theme=dark] .colab-df-convert:hover {\n",
              "      background-color: #434B5C;\n",
              "      box-shadow: 0px 1px 3px 1px rgba(0, 0, 0, 0.15);\n",
              "      filter: drop-shadow(0px 1px 2px rgba(0, 0, 0, 0.3));\n",
              "      fill: #FFFFFF;\n",
              "    }\n",
              "  </style>\n",
              "\n",
              "      <script>\n",
              "        const buttonEl =\n",
              "          document.querySelector('#df-4301df10-e2e1-409f-9769-bf7a06d6c6ca button.colab-df-convert');\n",
              "        buttonEl.style.display =\n",
              "          google.colab.kernel.accessAllowed ? 'block' : 'none';\n",
              "\n",
              "        async function convertToInteractive(key) {\n",
              "          const element = document.querySelector('#df-4301df10-e2e1-409f-9769-bf7a06d6c6ca');\n",
              "          const dataTable =\n",
              "            await google.colab.kernel.invokeFunction('convertToInteractive',\n",
              "                                                     [key], {});\n",
              "          if (!dataTable) return;\n",
              "\n",
              "          const docLinkHtml = 'Like what you see? Visit the ' +\n",
              "            '<a target=\"_blank\" href=https://colab.research.google.com/notebooks/data_table.ipynb>data table notebook</a>'\n",
              "            + ' to learn more about interactive tables.';\n",
              "          element.innerHTML = '';\n",
              "          dataTable['output_type'] = 'display_data';\n",
              "          await google.colab.output.renderOutput(dataTable, element);\n",
              "          const docLink = document.createElement('div');\n",
              "          docLink.innerHTML = docLinkHtml;\n",
              "          element.appendChild(docLink);\n",
              "        }\n",
              "      </script>\n",
              "    </div>\n",
              "  </div>\n",
              "  "
            ]
          },
          "metadata": {},
          "execution_count": 2
        }
      ],
      "source": [
        "'''data1 = pd.read_csv('/content/drive/MyDrive/test data/benign_traffic1.csv')\n",
        "data2 = pd.read_csv('/content/drive/MyDrive/test data/ack1.csv')\n",
        "data3 = pd.read_csv('/content/drive/MyDrive/test data/junk1.csv')\n",
        "data4 = pd.read_csv('/content/drive/MyDrive/test data/scan1.csv')\n",
        "data5 = pd.read_csv('/content/drive/MyDrive/test data/syn1.csv')\n",
        "data6 = pd.read_csv('/content/drive/MyDrive/test data/tcp1.csv')\n",
        "data7 = pd.read_csv('/content/drive/MyDrive/test data/udp1.csv')\n",
        "data8 = pd.read_csv('/content/drive/MyDrive/test data/udpplain1.csv')'''\n",
        "data1=pd.read_csv('/content/drive/MyDrive/280k_data/ack_h.csv')\n",
        "data2=pd.read_csv('/content/drive/MyDrive/280k_data/benign_traffic_h.csv')\n",
        "data3=pd.read_csv('/content/drive/MyDrive/280k_data/junk_h.csv')\n",
        "data4=pd.read_csv('/content/drive/MyDrive/280k_data/scan_h.csv')\n",
        "data5=pd.read_csv('/content/drive/MyDrive/280k_data/syn_h.csv')\n",
        "data6=pd.read_csv('/content/drive/MyDrive/280k_data/tcp_h.csv')\n",
        "data7=pd.read_csv('/content/drive/MyDrive/280k_data/udp_h.csv')\n",
        "data8=pd.read_csv('/content/drive/MyDrive/280k_data/udpplain_h.csv')\n",
        "\n",
        "datas=pd.concat([data1,data2,data3,data4,data5,data6,data7,data8], axis=0, sort=False, ignore_index=True)\n",
        "datas"
      ]
    },
    {
      "cell_type": "code",
      "execution_count": null,
      "metadata": {
        "id": "95WhAGEpnigD"
      },
      "outputs": [],
      "source": [
        "from sklearn.cluster import MeanShift \n",
        "from sklearn.cluster import estimate_bandwidth\n",
        "from matplotlib import pyplot as plt\n",
        "from sklearn.datasets import make_blobs"
      ]
    },
    {
      "cell_type": "code",
      "execution_count": null,
      "metadata": {
        "id": "StPa7nHqxKJE"
      },
      "outputs": [],
      "source": [
        "num_samples_total = 200000\n",
        "cluster_centers = [[1,1,1],[10,10,20],[25,25,30],[50,100,100],[100,100,150],[200,200,210],[210,210,225],[250,250,300]] \n",
        "\n",
        "num_classes = len(cluster_centers)\n"
      ]
    },
    {
      "cell_type": "code",
      "execution_count": null,
      "metadata": {
        "id": "XaO1ouHf4yq8"
      },
      "outputs": [],
      "source": [
        "datas, targets = make_blobs(n_samples = num_samples_total,centers = cluster_centers ,\n",
        "                              n_features = num_classes, center_box=(0, 1), cluster_std = 0.30)"
      ]
    },
    {
      "cell_type": "code",
      "execution_count": null,
      "metadata": {
        "id": "cLk4v1nc7V9v"
      },
      "outputs": [],
      "source": [
        "bandwidth = estimate_bandwidth(datas, quantile=0.2)\n",
        "\n",
        "ms = MeanShift(bandwidth=bandwidth, bin_seeding=True)\n",
        "ms.fit(datas)\n",
        "labels = ms.labels_\n",
        "cluster_centers = ms.cluster_centers_\n",
        "\n",
        "labels_unique = np.unique(labels)\n",
        "n_clusters_ = len(labels_unique)"
      ]
    },
    {
      "cell_type": "code",
      "execution_count": null,
      "metadata": {
        "colab": {
          "base_uri": "https://localhost:8080/"
        },
        "id": "qS-gCIxX7y2G",
        "outputId": "764858ed-0862-49a6-a7d2-c5269c7af4bf"
      },
      "outputs": [
        {
          "output_type": "stream",
          "name": "stdout",
          "text": [
            "number of estimated clusters : 5\n"
          ]
        }
      ],
      "source": [
        "clusters = print(\"number of estimated clusters : %d\" % n_clusters_)"
      ]
    },
    {
      "cell_type": "code",
      "execution_count": null,
      "metadata": {
        "colab": {
          "base_uri": "https://localhost:8080/",
          "height": 248
        },
        "id": "oHJYNF83NxLw",
        "outputId": "72c4e865-b638-40e2-9fbf-a027f8e621d9"
      },
      "outputs": [
        {
          "data": {
            "image/png": "[encoded data removed]",
            "text/plain": [
              "<Figure size 432x288 with 1 Axes>"
            ]
          },
          "metadata": {},
          "output_type": "display_data"
        }
      ],
      "source": [
        "fig = plt.figure()\n",
        "ax = fig.add_subplot(111, projection='3d')\n",
        "ax.scatter(datas[:,0], datas[:,1], datas[:,2], marker='o')\n",
        "ax.scatter(cluster_centers[:,0], cluster_centers[:,1], \n",
        " cluster_centers[:,2], marker='x', color='red', s=300, linewidth=5,\n",
        "                                   zorder=10)\n",
        "plt.show()"
      ]
    },
    {
      "cell_type": "markdown",
      "metadata": {
        "id": "vr6RqmwjMlQa"
      },
      "source": [
        "Adjusted Rand Index"
      ]
    },
    {
      "cell_type": "code",
      "execution_count": null,
      "metadata": {
        "colab": {
          "base_uri": "https://localhost:8080/"
        },
        "id": "w4A89TD3SOtc",
        "outputId": "b1b8d84d-acf7-4562-ec2e-beb251636bd6"
      },
      "outputs": [
        {
          "output_type": "execute_result",
          "data": {
            "text/plain": [
              "0.5999915997815943"
            ]
          },
          "metadata": {},
          "execution_count": 12
        }
      ],
      "source": [
        "from sklearn import metrics\n",
        "\n",
        "metrics.adjusted_rand_score(ms.labels_,targets)"
      ]
    },
    {
      "cell_type": "markdown",
      "metadata": {
        "id": "mFid41_WTZfH"
      },
      "source": [
        "Fowlkes-Mallows score"
      ]
    },
    {
      "cell_type": "code",
      "execution_count": null,
      "metadata": {
        "colab": {
          "base_uri": "https://localhost:8080/"
        },
        "id": "w1jDAuoBTY0B",
        "outputId": "3ed61b53-9da9-4dbc-c0c5-7c309c265c6c"
      },
      "outputs": [
        {
          "output_type": "execute_result",
          "data": {
            "text/plain": [
              "0.7070997099419544"
            ]
          },
          "metadata": {},
          "execution_count": 13
        }
      ],
      "source": [
        "metrics.fowlkes_mallows_score(ms.labels_,targets) "
      ]
    },
    {
      "cell_type": "markdown",
      "metadata": {
        "id": "TA5A8i6nZ0ff"
      },
      "source": [
        "Silhouetter Score"
      ]
    },
    {
      "cell_type": "code",
      "execution_count": null,
      "metadata": {
        "id": "SwqbeIidZK61"
      },
      "outputs": [],
      "source": [
        "from sklearn.metrics import silhouette_samples, silhouette_score\n",
        "from yellowbrick.cluster import SilhouetteVisualizer\n",
        "\n",
        "score = silhouette_score(datas, ms.labels_, metric='euclidean')"
      ]
    },
    {
      "cell_type": "code",
      "execution_count": null,
      "metadata": {
        "colab": {
          "base_uri": "https://localhost:8080/"
        },
        "id": "AaPPGqnEZftA",
        "outputId": "3c088f70-2bb9-4d81-f145-ad02e4d1861f"
      },
      "outputs": [
        {
          "output_type": "stream",
          "name": "stdout",
          "text": [
            "Silhouetter Score: 0.909\n"
          ]
        }
      ],
      "source": [
        "print('Silhouetter Score: %.3f' % score)"
      ]
    },
    {
      "cell_type": "markdown",
      "metadata": {
        "id": "3zpsk78qZ3jY"
      },
      "source": [
        "Calinski_harabasz_score"
      ]
    },
    {
      "cell_type": "code",
      "execution_count": null,
      "metadata": {
        "colab": {
          "base_uri": "https://localhost:8080/"
        },
        "id": "mp23I4XkZijY",
        "outputId": "ad414654-671d-4550-f9c4-1b9f6d74468d"
      },
      "outputs": [
        {
          "output_type": "stream",
          "name": "stdout",
          "text": [
            "8914430.483112939\n"
          ]
        }
      ],
      "source": [
        "from sklearn import metrics\n",
        "print(metrics.calinski_harabasz_score(datas,ms.labels_))"
      ]
    }
  ],
  "metadata": {
    "colab": {
      "provenance": [],
      "collapsed_sections": []
    },
    "kernelspec": {
      "display_name": "Python 3",
      "name": "python3"
    },
    "language_info": {
      "name": "python"
    }
  },
  "nbformat": 4,
  "nbformat_minor": 0
}