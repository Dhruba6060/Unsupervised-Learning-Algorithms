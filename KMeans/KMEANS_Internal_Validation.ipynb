{
  "cells": [
    {
      "cell_type": "code",
      "execution_count": null,
      "metadata": {
        "colab": {
          "base_uri": "https://localhost:8080/",
          "height": 505
        },
        "id": "LCUIHzciT0rU",
        "outputId": "806cefe3-ef8f-4067-a847-c0179afc8320"
      },
      "outputs": [
        {
          "output_type": "stream",
          "name": "stdout",
          "text": [
            "Drive already mounted at /content/drive; to attempt to forcibly remount, call drive.mount(\"/content/drive\", force_remount=True).\n"
          ]
        },
        {
          "output_type": "execute_result",
          "data": {
            "text/plain": [
              "        MI_dir_L5_weight  MI_dir_L5_mean  MI_dir_L5_variance  \\\n",
              "0               1.000000      566.000000        0.000000e+00   \n",
              "1               1.996585      566.000000        5.820000e-11   \n",
              "2               2.958989      566.000000        0.000000e+00   \n",
              "3               3.958979      566.000000        0.000000e+00   \n",
              "4               4.914189      566.000000        1.160000e-10   \n",
              "...                  ...             ...                 ...   \n",
              "279987         39.256165      504.003978        2.219839e+04   \n",
              "279988         40.255905      505.245933        2.170751e+04   \n",
              "279989         41.255606      506.427690        2.123756e+04   \n",
              "279990         42.255469      507.553516        2.078725e+04   \n",
              "279991         43.240249      508.627665        2.035525e+04   \n",
              "\n",
              "        MI_dir_L3_weight  MI_dir_L3_mean  MI_dir_L3_variance  \\\n",
              "0               1.000000      566.000000        0.000000e+00   \n",
              "1               1.997950      566.000000        5.820000e-11   \n",
              "2               2.975291      566.000000        5.820000e-11   \n",
              "3               3.975285      566.000000        0.000000e+00   \n",
              "4               4.948239      566.000000        5.820000e-11   \n",
              "...                  ...             ...                 ...   \n",
              "279987         66.495961      426.545257        4.671683e+04   \n",
              "279988         67.495697      428.433595        4.626179e+04   \n",
              "279989         68.495396      430.266805        4.581322e+04   \n",
              "279990         69.495260      432.047260        4.537113e+04   \n",
              "279991         70.480240      433.777571        4.493541e+04   \n",
              "\n",
              "        MI_dir_L1_weight  MI_dir_L1_mean  MI_dir_L1_variance  \\\n",
              "0               1.000000      566.000000        0.000000e+00   \n",
              "1               1.999316      566.000000        0.000000e+00   \n",
              "2               2.991729      566.000000        5.820000e-11   \n",
              "3               3.991727      566.000000        1.160000e-10   \n",
              "4               4.982654      566.000000        5.820000e-11   \n",
              "...                  ...             ...                 ...   \n",
              "279987        259.096457      328.198231        6.054598e+04   \n",
              "279988        260.096115      329.066378        6.050847e+04   \n",
              "279989        261.095728      329.927877        6.046976e+04   \n",
              "279990        262.095555      330.782802        6.042988e+04   \n",
              "279991        263.076671      331.631290        6.038885e+04   \n",
              "\n",
              "        MI_dir_L0.1_weight  ...  HpHp_L0.1_covariance  HpHp_L0.1_pcc  \\\n",
              "0                 1.000000  ...                   0.0            0.0   \n",
              "1                 1.999932  ...                   0.0            0.0   \n",
              "2                 2.999171  ...                   0.0            0.0   \n",
              "3                 3.999171  ...                   0.0            0.0   \n",
              "4                 4.998261  ...                   0.0            0.0   \n",
              "...                    ...  ...                   ...            ...   \n",
              "279987         2788.201337  ...                   0.0            0.0   \n",
              "279988         2789.200968  ...                   0.0            0.0   \n",
              "279989         2790.200553  ...                   0.0            0.0   \n",
              "279990         2791.200369  ...                   0.0            0.0   \n",
              "279991         2792.180258  ...                   0.0            0.0   \n",
              "\n",
              "        HpHp_L0.01_weight  HpHp_L0.01_mean  HpHp_L0.01_std  \\\n",
              "0                1.000000            566.0        0.000000   \n",
              "1                1.000000            566.0        0.000000   \n",
              "2                1.000000            566.0        0.000000   \n",
              "3                1.000000            566.0        0.000000   \n",
              "4                1.000000            566.0        0.000000   \n",
              "...                   ...              ...             ...   \n",
              "279987        3132.118867            554.0        0.000037   \n",
              "279988        3133.118826            554.0        0.000037   \n",
              "279989        3134.118779            554.0        0.000037   \n",
              "279990        3135.118758            554.0        0.000039   \n",
              "279991        3136.116499            554.0        0.000037   \n",
              "\n",
              "        HpHp_L0.01_magnitude  HpHp_L0.01_radius  HpHp_L0.01_covariance  \\\n",
              "0                      566.0       0.000000e+00                    0.0   \n",
              "1                      566.0       0.000000e+00                    0.0   \n",
              "2                      566.0       0.000000e+00                    0.0   \n",
              "3                      566.0       0.000000e+00                    0.0   \n",
              "4                      566.0       0.000000e+00                    0.0   \n",
              "...                      ...                ...                    ...   \n",
              "279987                 554.0       1.400000e-09                    0.0   \n",
              "279988                 554.0       1.400000e-09                    0.0   \n",
              "279989                 554.0       1.400000e-09                    0.0   \n",
              "279990                 554.0       1.510000e-09                    0.0   \n",
              "279991                 554.0       1.400000e-09                    0.0   \n",
              "\n",
              "        HpHp_L0.01_pcc     class  \n",
              "0                  0.0       ack  \n",
              "1                  0.0       ack  \n",
              "2                  0.0       ack  \n",
              "3                  0.0       ack  \n",
              "4                  0.0       ack  \n",
              "...                ...       ...  \n",
              "279987             0.0  udpplain  \n",
              "279988             0.0  udpplain  \n",
              "279989             0.0  udpplain  \n",
              "279990             0.0  udpplain  \n",
              "279991             0.0  udpplain  \n",
              "\n",
              "[279992 rows x 116 columns]"
            ],
            "text/html": [
              "\n",
              "  <div id=\"df-6b92dbcb-3da1-4412-a733-432b040a4733\">\n",
              "    <div class=\"colab-df-container\">\n",
              "      <div>\n",
              "<style scoped>\n",
              "    .dataframe tbody tr th:only-of-type {\n",
              "        vertical-align: middle;\n",
              "    }\n",
              "\n",
              "    .dataframe tbody tr th {\n",
              "        vertical-align: top;\n",
              "    }\n",
              "\n",
              "    .dataframe thead th {\n",
              "        text-align: right;\n",
              "    }\n",
              "</style>\n",
              "<table border=\"1\" class=\"dataframe\">\n",
              "  <thead>\n",
              "    <tr style=\"text-align: right;\">\n",
              "      <th></th>\n",
              "      <th>MI_dir_L5_weight</th>\n",
              "      <th>MI_dir_L5_mean</th>\n",
              "      <th>MI_dir_L5_variance</th>\n",
              "      <th>MI_dir_L3_weight</th>\n",
              "      <th>MI_dir_L3_mean</th>\n",
              "      <th>MI_dir_L3_variance</th>\n",
              "      <th>MI_dir_L1_weight</th>\n",
              "      <th>MI_dir_L1_mean</th>\n",
              "      <th>MI_dir_L1_variance</th>\n",
              "      <th>MI_dir_L0.1_weight</th>\n",
              "      <th>...</th>\n",
              "      <th>HpHp_L0.1_covariance</th>\n",
              "      <th>HpHp_L0.1_pcc</th>\n",
              "      <th>HpHp_L0.01_weight</th>\n",
              "      <th>HpHp_L0.01_mean</th>\n",
              "      <th>HpHp_L0.01_std</th>\n",
              "      <th>HpHp_L0.01_magnitude</th>\n",
              "      <th>HpHp_L0.01_radius</th>\n",
              "      <th>HpHp_L0.01_covariance</th>\n",
              "      <th>HpHp_L0.01_pcc</th>\n",
              "      <th>class</th>\n",
              "    </tr>\n",
              "  </thead>\n",
              "  <tbody>\n",
              "    <tr>\n",
              "      <th>0</th>\n",
              "      <td>1.000000</td>\n",
              "      <td>566.000000</td>\n",
              "      <td>0.000000e+00</td>\n",
              "      <td>1.000000</td>\n",
              "      <td>566.000000</td>\n",
              "      <td>0.000000e+00</td>\n",
              "      <td>1.000000</td>\n",
              "      <td>566.000000</td>\n",
              "      <td>0.000000e+00</td>\n",
              "      <td>1.000000</td>\n",
              "      <td>...</td>\n",
              "      <td>0.0</td>\n",
              "      <td>0.0</td>\n",
              "      <td>1.000000</td>\n",
              "      <td>566.0</td>\n",
              "      <td>0.000000</td>\n",
              "      <td>566.0</td>\n",
              "      <td>0.000000e+00</td>\n",
              "      <td>0.0</td>\n",
              "      <td>0.0</td>\n",
              "      <td>ack</td>\n",
              "    </tr>\n",
              "    <tr>\n",
              "      <th>1</th>\n",
              "      <td>1.996585</td>\n",
              "      <td>566.000000</td>\n",
              "      <td>5.820000e-11</td>\n",
              "      <td>1.997950</td>\n",
              "      <td>566.000000</td>\n",
              "      <td>5.820000e-11</td>\n",
              "      <td>1.999316</td>\n",
              "      <td>566.000000</td>\n",
              "      <td>0.000000e+00</td>\n",
              "      <td>1.999932</td>\n",
              "      <td>...</td>\n",
              "      <td>0.0</td>\n",
              "      <td>0.0</td>\n",
              "      <td>1.000000</td>\n",
              "      <td>566.0</td>\n",
              "      <td>0.000000</td>\n",
              "      <td>566.0</td>\n",
              "      <td>0.000000e+00</td>\n",
              "      <td>0.0</td>\n",
              "      <td>0.0</td>\n",
              "      <td>ack</td>\n",
              "    </tr>\n",
              "    <tr>\n",
              "      <th>2</th>\n",
              "      <td>2.958989</td>\n",
              "      <td>566.000000</td>\n",
              "      <td>0.000000e+00</td>\n",
              "      <td>2.975291</td>\n",
              "      <td>566.000000</td>\n",
              "      <td>5.820000e-11</td>\n",
              "      <td>2.991729</td>\n",
              "      <td>566.000000</td>\n",
              "      <td>5.820000e-11</td>\n",
              "      <td>2.999171</td>\n",
              "      <td>...</td>\n",
              "      <td>0.0</td>\n",
              "      <td>0.0</td>\n",
              "      <td>1.000000</td>\n",
              "      <td>566.0</td>\n",
              "      <td>0.000000</td>\n",
              "      <td>566.0</td>\n",
              "      <td>0.000000e+00</td>\n",
              "      <td>0.0</td>\n",
              "      <td>0.0</td>\n",
              "      <td>ack</td>\n",
              "    </tr>\n",
              "    <tr>\n",
              "      <th>3</th>\n",
              "      <td>3.958979</td>\n",
              "      <td>566.000000</td>\n",
              "      <td>0.000000e+00</td>\n",
              "      <td>3.975285</td>\n",
              "      <td>566.000000</td>\n",
              "      <td>0.000000e+00</td>\n",
              "      <td>3.991727</td>\n",
              "      <td>566.000000</td>\n",
              "      <td>1.160000e-10</td>\n",
              "      <td>3.999171</td>\n",
              "      <td>...</td>\n",
              "      <td>0.0</td>\n",
              "      <td>0.0</td>\n",
              "      <td>1.000000</td>\n",
              "      <td>566.0</td>\n",
              "      <td>0.000000</td>\n",
              "      <td>566.0</td>\n",
              "      <td>0.000000e+00</td>\n",
              "      <td>0.0</td>\n",
              "      <td>0.0</td>\n",
              "      <td>ack</td>\n",
              "    </tr>\n",
              "    <tr>\n",
              "      <th>4</th>\n",
              "      <td>4.914189</td>\n",
              "      <td>566.000000</td>\n",
              "      <td>1.160000e-10</td>\n",
              "      <td>4.948239</td>\n",
              "      <td>566.000000</td>\n",
              "      <td>5.820000e-11</td>\n",
              "      <td>4.982654</td>\n",
              "      <td>566.000000</td>\n",
              "      <td>5.820000e-11</td>\n",
              "      <td>4.998261</td>\n",
              "      <td>...</td>\n",
              "      <td>0.0</td>\n",
              "      <td>0.0</td>\n",
              "      <td>1.000000</td>\n",
              "      <td>566.0</td>\n",
              "      <td>0.000000</td>\n",
              "      <td>566.0</td>\n",
              "      <td>0.000000e+00</td>\n",
              "      <td>0.0</td>\n",
              "      <td>0.0</td>\n",
              "      <td>ack</td>\n",
              "    </tr>\n",
              "    <tr>\n",
              "      <th>...</th>\n",
              "      <td>...</td>\n",
              "      <td>...</td>\n",
              "      <td>...</td>\n",
              "      <td>...</td>\n",
              "      <td>...</td>\n",
              "      <td>...</td>\n",
              "      <td>...</td>\n",
              "      <td>...</td>\n",
              "      <td>...</td>\n",
              "      <td>...</td>\n",
              "      <td>...</td>\n",
              "      <td>...</td>\n",
              "      <td>...</td>\n",
              "      <td>...</td>\n",
              "      <td>...</td>\n",
              "      <td>...</td>\n",
              "      <td>...</td>\n",
              "      <td>...</td>\n",
              "      <td>...</td>\n",
              "      <td>...</td>\n",
              "      <td>...</td>\n",
              "    </tr>\n",
              "    <tr>\n",
              "      <th>279987</th>\n",
              "      <td>39.256165</td>\n",
              "      <td>504.003978</td>\n",
              "      <td>2.219839e+04</td>\n",
              "      <td>66.495961</td>\n",
              "      <td>426.545257</td>\n",
              "      <td>4.671683e+04</td>\n",
              "      <td>259.096457</td>\n",
              "      <td>328.198231</td>\n",
              "      <td>6.054598e+04</td>\n",
              "      <td>2788.201337</td>\n",
              "      <td>...</td>\n",
              "      <td>0.0</td>\n",
              "      <td>0.0</td>\n",
              "      <td>3132.118867</td>\n",
              "      <td>554.0</td>\n",
              "      <td>0.000037</td>\n",
              "      <td>554.0</td>\n",
              "      <td>1.400000e-09</td>\n",
              "      <td>0.0</td>\n",
              "      <td>0.0</td>\n",
              "      <td>udpplain</td>\n",
              "    </tr>\n",
              "    <tr>\n",
              "      <th>279988</th>\n",
              "      <td>40.255905</td>\n",
              "      <td>505.245933</td>\n",
              "      <td>2.170751e+04</td>\n",
              "      <td>67.495697</td>\n",
              "      <td>428.433595</td>\n",
              "      <td>4.626179e+04</td>\n",
              "      <td>260.096115</td>\n",
              "      <td>329.066378</td>\n",
              "      <td>6.050847e+04</td>\n",
              "      <td>2789.200968</td>\n",
              "      <td>...</td>\n",
              "      <td>0.0</td>\n",
              "      <td>0.0</td>\n",
              "      <td>3133.118826</td>\n",
              "      <td>554.0</td>\n",
              "      <td>0.000037</td>\n",
              "      <td>554.0</td>\n",
              "      <td>1.400000e-09</td>\n",
              "      <td>0.0</td>\n",
              "      <td>0.0</td>\n",
              "      <td>udpplain</td>\n",
              "    </tr>\n",
              "    <tr>\n",
              "      <th>279989</th>\n",
              "      <td>41.255606</td>\n",
              "      <td>506.427690</td>\n",
              "      <td>2.123756e+04</td>\n",
              "      <td>68.495396</td>\n",
              "      <td>430.266805</td>\n",
              "      <td>4.581322e+04</td>\n",
              "      <td>261.095728</td>\n",
              "      <td>329.927877</td>\n",
              "      <td>6.046976e+04</td>\n",
              "      <td>2790.200553</td>\n",
              "      <td>...</td>\n",
              "      <td>0.0</td>\n",
              "      <td>0.0</td>\n",
              "      <td>3134.118779</td>\n",
              "      <td>554.0</td>\n",
              "      <td>0.000037</td>\n",
              "      <td>554.0</td>\n",
              "      <td>1.400000e-09</td>\n",
              "      <td>0.0</td>\n",
              "      <td>0.0</td>\n",
              "      <td>udpplain</td>\n",
              "    </tr>\n",
              "    <tr>\n",
              "      <th>279990</th>\n",
              "      <td>42.255469</td>\n",
              "      <td>507.553516</td>\n",
              "      <td>2.078725e+04</td>\n",
              "      <td>69.495260</td>\n",
              "      <td>432.047260</td>\n",
              "      <td>4.537113e+04</td>\n",
              "      <td>262.095555</td>\n",
              "      <td>330.782802</td>\n",
              "      <td>6.042988e+04</td>\n",
              "      <td>2791.200369</td>\n",
              "      <td>...</td>\n",
              "      <td>0.0</td>\n",
              "      <td>0.0</td>\n",
              "      <td>3135.118758</td>\n",
              "      <td>554.0</td>\n",
              "      <td>0.000039</td>\n",
              "      <td>554.0</td>\n",
              "      <td>1.510000e-09</td>\n",
              "      <td>0.0</td>\n",
              "      <td>0.0</td>\n",
              "      <td>udpplain</td>\n",
              "    </tr>\n",
              "    <tr>\n",
              "      <th>279991</th>\n",
              "      <td>43.240249</td>\n",
              "      <td>508.627665</td>\n",
              "      <td>2.035525e+04</td>\n",
              "      <td>70.480240</td>\n",
              "      <td>433.777571</td>\n",
              "      <td>4.493541e+04</td>\n",
              "      <td>263.076671</td>\n",
              "      <td>331.631290</td>\n",
              "      <td>6.038885e+04</td>\n",
              "      <td>2792.180258</td>\n",
              "      <td>...</td>\n",
              "      <td>0.0</td>\n",
              "      <td>0.0</td>\n",
              "      <td>3136.116499</td>\n",
              "      <td>554.0</td>\n",
              "      <td>0.000037</td>\n",
              "      <td>554.0</td>\n",
              "      <td>1.400000e-09</td>\n",
              "      <td>0.0</td>\n",
              "      <td>0.0</td>\n",
              "      <td>udpplain</td>\n",
              "    </tr>\n",
              "  </tbody>\n",
              "</table>\n",
              "<p>279992 rows × 116 columns</p>\n",
              "</div>\n",
              "      <button class=\"colab-df-convert\" onclick=\"convertToInteractive('df-6b92dbcb-3da1-4412-a733-432b040a4733')\"\n",
              "              title=\"Convert this dataframe to an interactive table.\"\n",
              "              style=\"display:none;\">\n",
              "        \n",
              "  <svg xmlns=\"http://www.w3.org/2000/svg\" height=\"24px\"viewBox=\"0 0 24 24\"\n",
              "       width=\"24px\">\n",
              "    <path d=\"M0 0h24v24H0V0z\" fill=\"none\"/>\n",
              "    <path d=\"M18.56 5.44l.94 2.06.94-2.06 2.06-.94-2.06-.94-.94-2.06-.94 2.06-2.06.94zm-11 1L8.5 8.5l.94-2.06 2.06-.94-2.06-.94L8.5 2.5l-.94 2.06-2.06.94zm10 10l.94 2.06.94-2.06 2.06-.94-2.06-.94-.94-2.06-.94 2.06-2.06.94z\"/><path d=\"M17.41 7.96l-1.37-1.37c-.4-.4-.92-.59-1.43-.59-.52 0-1.04.2-1.43.59L10.3 9.45l-7.72 7.72c-.78.78-.78 2.05 0 2.83L4 21.41c.39.39.9.59 1.41.59.51 0 1.02-.2 1.41-.59l7.78-7.78 2.81-2.81c.8-.78.8-2.07 0-2.86zM5.41 20L4 18.59l7.72-7.72 1.47 1.35L5.41 20z\"/>\n",
              "  </svg>\n",
              "      </button>\n",
              "      \n",
              "  <style>\n",
              "    .colab-df-container {\n",
              "      display:flex;\n",
              "      flex-wrap:wrap;\n",
              "      gap: 12px;\n",
              "    }\n",
              "\n",
              "    .colab-df-convert {\n",
              "      background-color: #E8F0FE;\n",
              "      border: none;\n",
              "      border-radius: 50%;\n",
              "      cursor: pointer;\n",
              "      display: none;\n",
              "      fill: #1967D2;\n",
              "      height: 32px;\n",
              "      padding: 0 0 0 0;\n",
              "      width: 32px;\n",
              "    }\n",
              "\n",
              "    .colab-df-convert:hover {\n",
              "      background-color: #E2EBFA;\n",
              "      box-shadow: 0px 1px 2px rgba(60, 64, 67, 0.3), 0px 1px 3px 1px rgba(60, 64, 67, 0.15);\n",
              "      fill: #174EA6;\n",
              "    }\n",
              "\n",
              "    [theme=dark] .colab-df-convert {\n",
              "      background-color: #3B4455;\n",
              "      fill: #D2E3FC;\n",
              "    }\n",
              "\n",
              "    [theme=dark] .colab-df-convert:hover {\n",
              "      background-color: #434B5C;\n",
              "      box-shadow: 0px 1px 3px 1px rgba(0, 0, 0, 0.15);\n",
              "      filter: drop-shadow(0px 1px 2px rgba(0, 0, 0, 0.3));\n",
              "      fill: #FFFFFF;\n",
              "    }\n",
              "  </style>\n",
              "\n",
              "      <script>\n",
              "        const buttonEl =\n",
              "          document.querySelector('#df-6b92dbcb-3da1-4412-a733-432b040a4733 button.colab-df-convert');\n",
              "        buttonEl.style.display =\n",
              "          google.colab.kernel.accessAllowed ? 'block' : 'none';\n",
              "\n",
              "        async function convertToInteractive(key) {\n",
              "          const element = document.querySelector('#df-6b92dbcb-3da1-4412-a733-432b040a4733');\n",
              "          const dataTable =\n",
              "            await google.colab.kernel.invokeFunction('convertToInteractive',\n",
              "                                                     [key], {});\n",
              "          if (!dataTable) return;\n",
              "\n",
              "          const docLinkHtml = 'Like what you see? Visit the ' +\n",
              "            '<a target=\"_blank\" href=https://colab.research.google.com/notebooks/data_table.ipynb>data table notebook</a>'\n",
              "            + ' to learn more about interactive tables.';\n",
              "          element.innerHTML = '';\n",
              "          dataTable['output_type'] = 'display_data';\n",
              "          await google.colab.output.renderOutput(dataTable, element);\n",
              "          const docLink = document.createElement('div');\n",
              "          docLink.innerHTML = docLinkHtml;\n",
              "          element.appendChild(docLink);\n",
              "        }\n",
              "      </script>\n",
              "    </div>\n",
              "  </div>\n",
              "  "
            ]
          },
          "metadata": {},
          "execution_count": 1
        }
      ],
      "source": [
        "from google.colab import drive\n",
        "drive.mount('/content/drive')\n",
        "\n",
        "\n",
        "import numpy as np\n",
        "import pandas as pd\n",
        "import matplotlib.pyplot as plt\n",
        "import seaborn as sns\n",
        "%matplotlib inline\n",
        "sns.set()\n",
        "import warnings\n",
        "warnings.filterwarnings('ignore')\n",
        "\n",
        "data1=pd.read_csv('/content/drive/MyDrive/280k_data/ack_h.csv')\n",
        "data2=pd.read_csv('/content/drive/MyDrive/280k_data/benign_traffic_h.csv')\n",
        "data3=pd.read_csv('/content/drive/MyDrive/280k_data/junk_h.csv')\n",
        "data4=pd.read_csv('/content/drive/MyDrive/280k_data/scan_h.csv')\n",
        "data5=pd.read_csv('/content/drive/MyDrive/280k_data/syn_h.csv')\n",
        "data6=pd.read_csv('/content/drive/MyDrive/280k_data/tcp_h.csv')\n",
        "data7=pd.read_csv('/content/drive/MyDrive/280k_data/udp_h.csv')\n",
        "data8=pd.read_csv('/content/drive/MyDrive/280k_data/udpplain_h.csv')\n",
        "\n",
        "\n",
        "data1['class']='ack'\n",
        "data2['class']='benign'\n",
        "data3['class']='junk'\n",
        "data4['class']='scan'\n",
        "data5['class']='syn'\n",
        "data6['class']='tcp'\n",
        "data7['class']='udp'\n",
        "data8['class']='udpplain'\n",
        "\n",
        "\n",
        "data=pd.concat([data1,data2,data3,data4,data5,data6,data7,data8],\n",
        "\n",
        "               axis=0, sort=False, ignore_index=True)\n",
        "\n",
        "data.groupby('class')['class'].count()\n",
        "data "
      ]
    },
    {
      "cell_type": "code",
      "execution_count": null,
      "metadata": {
        "colab": {
          "base_uri": "https://localhost:8080/"
        },
        "id": "w1dq8oTKHG7a",
        "outputId": "7729bfb1-5dca-4601-e4ca-98422ca24f4c"
      },
      "outputs": [
        {
          "output_type": "execute_result",
          "data": {
            "text/plain": [
              "array(['ack', 'ack', 'ack', ..., 'udpplain', 'udpplain', 'udpplain'],\n",
              "      dtype=object)"
            ]
          },
          "metadata": {},
          "execution_count": 2
        }
      ],
      "source": [
        "Labels = data['class']\n",
        "data = data.drop(['class'], axis = 1)\n",
        "Labels = np.array(Labels)\n",
        "Labels"
      ]
    },
    {
      "cell_type": "code",
      "execution_count": null,
      "metadata": {
        "id": "tUIpWz3Yno-6"
      },
      "outputs": [],
      "source": [
        "from sklearn.cluster import KMeans"
      ]
    },
    {
      "cell_type": "code",
      "execution_count": null,
      "metadata": {
        "id": "IFoPY3JUMidX"
      },
      "outputs": [],
      "source": [
        "from sklearn.preprocessing import StandardScaler\n",
        "\n",
        "scaler = StandardScaler()\n",
        "data_scaled = scaler.fit_transform(data)"
      ]
    },
    {
      "cell_type": "code",
      "execution_count": null,
      "metadata": {
        "colab": {
          "base_uri": "https://localhost:8080/",
          "height": 345
        },
        "id": "eRJgit3Fl2hW",
        "outputId": "d6aa293a-5648-43be-af49-ab236bcdfdc5"
      },
      "outputs": [
        {
          "data": {
            "image/png": "[encoded data removed]",
            "text/plain": [
              "<Figure size 576x360 with 1 Axes>"
            ]
          },
          "metadata": {},
          "output_type": "display_data"
        }
      ],
      "source": [
        "ks = range(1, 10)\n",
        "inertias = []\n",
        "\n",
        "for k in ks:\n",
        "    model = KMeans(n_clusters=k)\n",
        "    model.fit(data_scaled)\n",
        "    inertias.append(model.inertia_)\n",
        "\n",
        "#plt.scatter()\n",
        "plt.figure(figsize=(8,5))\n",
        "plt.style.use('bmh')\n",
        "plt.plot(ks, inertias, '-o')\n",
        "plt.xlabel('Number of clusters, k')\n",
        "plt.ylabel('Inertia')\n",
        "plt.xticks(ks)\n",
        "plt.show()"
      ]
    },
    {
      "cell_type": "code",
      "execution_count": null,
      "metadata": {
        "id": "ducC0PL5l2l4"
      },
      "outputs": [],
      "source": [
        "km = KMeans(n_clusters=8)\n",
        "label = km.fit_predict(data_scaled)"
      ]
    },
    {
      "cell_type": "code",
      "execution_count": null,
      "metadata": {
        "colab": {
          "base_uri": "https://localhost:8080/"
        },
        "id": "oOGXt37yHY5H",
        "outputId": "088072c3-7584-4fa3-ca8b-fbd0d5e66eff"
      },
      "outputs": [
        {
          "output_type": "execute_result",
          "data": {
            "text/plain": [
              "array([2, 2, 2, ..., 2, 2, 2], dtype=int32)"
            ]
          },
          "metadata": {},
          "execution_count": 6
        }
      ],
      "source": [
        "label"
      ]
    },
    {
      "cell_type": "code",
      "execution_count": null,
      "metadata": {
        "colab": {
          "base_uri": "https://localhost:8080/"
        },
        "id": "GCzivX8Dl2oL",
        "outputId": "40284a67-82fa-43d6-c817-795b1afe87fd"
      },
      "outputs": [
        {
          "output_type": "execute_result",
          "data": {
            "text/plain": [
              "array([0, 1, 2, 3, 4, 5, 6, 7], dtype=int32)"
            ]
          },
          "metadata": {},
          "execution_count": 7
        }
      ],
      "source": [
        "u_labels = np.unique(label)\n",
        "u_labels"
      ]
    },
    {
      "cell_type": "code",
      "execution_count": null,
      "metadata": {
        "id": "02wJRj_v9Ybj"
      },
      "outputs": [],
      "source": [
        "cluster=km.labels_"
      ]
    },
    {
      "cell_type": "code",
      "execution_count": null,
      "metadata": {
        "colab": {
          "base_uri": "https://localhost:8080/"
        },
        "id": "gsfZ7QChl206",
        "outputId": "47422820-c681-4b26-9b70-5ebbee020e79"
      },
      "outputs": [
        {
          "output_type": "stream",
          "name": "stdout",
          "text": [
            "{0: 147343, 1: 56867, 2: 40744, 3: 29462, 4: 4499, 5: 251, 6: 243, 7: 583}\n"
          ]
        }
      ],
      "source": [
        "u_labels,counts = np.unique(km.labels_,return_counts=True)\n",
        "print(dict(zip(u_labels,counts)))"
      ]
    },
    {
      "cell_type": "code",
      "execution_count": null,
      "metadata": {
        "colab": {
          "base_uri": "https://localhost:8080/",
          "height": 279
        },
        "id": "MCStM8UxJ1lo",
        "outputId": "0d7adf0f-4a02-4c8d-ef5b-9730e5e90847"
      },
      "outputs": [
        {
          "data": {
            "text/plain": [
              "<matplotlib.axes._subplots.AxesSubplot at 0x7f034d7f2fd0>"
            ]
          },
          "execution_count": 13,
          "metadata": {},
          "output_type": "execute_result"
        },
        {
          "data": {
            "image/png": "[encoded data removed]",
            "text/plain": [
              "<Figure size 432x288 with 1 Axes>"
            ]
          },
          "metadata": {},
          "output_type": "display_data"
        }
      ],
      "source": [
        "sns.countplot(label)"
      ]
    },
    {
      "cell_type": "code",
      "execution_count": null,
      "metadata": {
        "colab": {
          "base_uri": "https://localhost:8080/"
        },
        "id": "CICPCeuqRwVX",
        "outputId": "d9167357-7162-48c2-e584-fd7a0df01060"
      },
      "outputs": [
        {
          "data": {
            "text/plain": [
              "array(['ack', 'benign', 'junk', 'scan', 'syn', 'tcp', 'udp', 'udpplain'],\n",
              "      dtype=object)"
            ]
          },
          "execution_count": 14,
          "metadata": {},
          "output_type": "execute_result"
        }
      ],
      "source": [
        "np.unique(Labels)"
      ]
    },
    {
      "cell_type": "code",
      "execution_count": null,
      "metadata": {
        "colab": {
          "base_uri": "https://localhost:8080/"
        },
        "id": "ZJY5MRYSR7kE",
        "outputId": "74fb42eb-7a92-49f8-a97a-7304d6ab6b73"
      },
      "outputs": [
        {
          "data": {
            "text/plain": [
              "array([0, 1, 2, 3, 4, 5, 6, 7], dtype=int32)"
            ]
          },
          "execution_count": 15,
          "metadata": {},
          "output_type": "execute_result"
        }
      ],
      "source": [
        "np.unique(label)"
      ]
    },
    {
      "cell_type": "code",
      "execution_count": null,
      "metadata": {
        "colab": {
          "base_uri": "https://localhost:8080/"
        },
        "id": "8kipP7uSSHot",
        "outputId": "342cbbde-95a0-46e3-d421-8a363b3c9594"
      },
      "outputs": [
        {
          "data": {
            "text/plain": [
              "array([2, 6, 6, ..., 2, 2, 2], dtype=int32)"
            ]
          },
          "execution_count": 16,
          "metadata": {},
          "output_type": "execute_result"
        }
      ],
      "source": [
        "label"
      ]
    },
    {
      "cell_type": "code",
      "execution_count": null,
      "metadata": {
        "colab": {
          "base_uri": "https://localhost:8080/"
        },
        "id": "msdsCTCNTCz-",
        "outputId": "82568833-624c-446c-e6ee-6a596d7021a9"
      },
      "outputs": [
        {
          "output_type": "execute_result",
          "data": {
            "text/plain": [
              "array([2, 2, 2, ..., 2, 2, 2], dtype=int32)"
            ]
          },
          "metadata": {},
          "execution_count": 10
        }
      ],
      "source": [
        "km.labels_"
      ]
    },
    {
      "cell_type": "code",
      "source": [
        "from sklearn.metrics.cluster import adjusted_rand_score\n",
        "adjusted_rand_score(data_scaled, km.labels_) "
      ],
      "metadata": {
        "colab": {
          "base_uri": "https://localhost:8080/",
          "height": 329
        },
        "id": "TtNwT58b_cMV",
        "outputId": "d245d5e8-1037-42b9-a456-230fa57aa914"
      },
      "execution_count": null,
      "outputs": [
        {
          "output_type": "error",
          "ename": "ValueError",
          "evalue": "ignored",
          "traceback": [
            "\u001b[0;31m---------------------------------------------------------------------------\u001b[0m",
            "\u001b[0;31mValueError\u001b[0m                                Traceback (most recent call last)",
            "\u001b[0;32m<ipython-input-19-a88e54f1fb94>\u001b[0m in \u001b[0;36m<module>\u001b[0;34m()\u001b[0m\n\u001b[1;32m      1\u001b[0m \u001b[0;32mfrom\u001b[0m \u001b[0msklearn\u001b[0m\u001b[0;34m.\u001b[0m\u001b[0mmetrics\u001b[0m\u001b[0;34m.\u001b[0m\u001b[0mcluster\u001b[0m \u001b[0;32mimport\u001b[0m \u001b[0madjusted_rand_score\u001b[0m\u001b[0;34m\u001b[0m\u001b[0;34m\u001b[0m\u001b[0m\n\u001b[0;32m----> 2\u001b[0;31m \u001b[0madjusted_rand_score\u001b[0m\u001b[0;34m(\u001b[0m\u001b[0mdata_scaled\u001b[0m\u001b[0;34m,\u001b[0m \u001b[0mkm\u001b[0m\u001b[0;34m.\u001b[0m\u001b[0mlabels_\u001b[0m\u001b[0;34m)\u001b[0m\u001b[0;34m\u001b[0m\u001b[0;34m\u001b[0m\u001b[0m\n\u001b[0m",
            "\u001b[0;32m/usr/local/lib/python3.7/dist-packages/sklearn/metrics/cluster/_supervised.py\u001b[0m in \u001b[0;36madjusted_rand_score\u001b[0;34m(labels_true, labels_pred)\u001b[0m\n\u001b[1;32m    389\u001b[0m     \u001b[0madjusted_mutual_info_score\u001b[0m \u001b[0;34m:\u001b[0m \u001b[0mAdjusted\u001b[0m \u001b[0mMutual\u001b[0m \u001b[0mInformation\u001b[0m\u001b[0;34m.\u001b[0m\u001b[0;34m\u001b[0m\u001b[0;34m\u001b[0m\u001b[0m\n\u001b[1;32m    390\u001b[0m     \"\"\"\n\u001b[0;32m--> 391\u001b[0;31m     \u001b[0;34m(\u001b[0m\u001b[0mtn\u001b[0m\u001b[0;34m,\u001b[0m \u001b[0mfp\u001b[0m\u001b[0;34m)\u001b[0m\u001b[0;34m,\u001b[0m \u001b[0;34m(\u001b[0m\u001b[0mfn\u001b[0m\u001b[0;34m,\u001b[0m \u001b[0mtp\u001b[0m\u001b[0;34m)\u001b[0m \u001b[0;34m=\u001b[0m \u001b[0mpair_confusion_matrix\u001b[0m\u001b[0;34m(\u001b[0m\u001b[0mlabels_true\u001b[0m\u001b[0;34m,\u001b[0m \u001b[0mlabels_pred\u001b[0m\u001b[0;34m)\u001b[0m\u001b[0;34m\u001b[0m\u001b[0;34m\u001b[0m\u001b[0m\n\u001b[0m\u001b[1;32m    392\u001b[0m     \u001b[0;31m# convert to Python integer types, to avoid overflow or underflow\u001b[0m\u001b[0;34m\u001b[0m\u001b[0;34m\u001b[0m\u001b[0;34m\u001b[0m\u001b[0m\n\u001b[1;32m    393\u001b[0m     \u001b[0mtn\u001b[0m\u001b[0;34m,\u001b[0m \u001b[0mfp\u001b[0m\u001b[0;34m,\u001b[0m \u001b[0mfn\u001b[0m\u001b[0;34m,\u001b[0m \u001b[0mtp\u001b[0m \u001b[0;34m=\u001b[0m \u001b[0mint\u001b[0m\u001b[0;34m(\u001b[0m\u001b[0mtn\u001b[0m\u001b[0;34m)\u001b[0m\u001b[0;34m,\u001b[0m \u001b[0mint\u001b[0m\u001b[0;34m(\u001b[0m\u001b[0mfp\u001b[0m\u001b[0;34m)\u001b[0m\u001b[0;34m,\u001b[0m \u001b[0mint\u001b[0m\u001b[0;34m(\u001b[0m\u001b[0mfn\u001b[0m\u001b[0;34m)\u001b[0m\u001b[0;34m,\u001b[0m \u001b[0mint\u001b[0m\u001b[0;34m(\u001b[0m\u001b[0mtp\u001b[0m\u001b[0;34m)\u001b[0m\u001b[0;34m\u001b[0m\u001b[0;34m\u001b[0m\u001b[0m\n",
            "\u001b[0;32m/usr/local/lib/python3.7/dist-packages/sklearn/metrics/cluster/_supervised.py\u001b[0m in \u001b[0;36mpair_confusion_matrix\u001b[0;34m(labels_true, labels_pred)\u001b[0m\n\u001b[1;32m    220\u001b[0m       \u001b[0mhttps\u001b[0m\u001b[0;34m:\u001b[0m\u001b[0;34m//\u001b[0m\u001b[0mlink\u001b[0m\u001b[0;34m.\u001b[0m\u001b[0mspringer\u001b[0m\u001b[0;34m.\u001b[0m\u001b[0mcom\u001b[0m\u001b[0;34m/\u001b[0m\u001b[0marticle\u001b[0m\u001b[0;34m/\u001b[0m\u001b[0;36m10.1007\u001b[0m\u001b[0;34m%\u001b[0m\u001b[0;36m2\u001b[0m\u001b[0mFBF01908075\u001b[0m\u001b[0;34m\u001b[0m\u001b[0;34m\u001b[0m\u001b[0m\n\u001b[1;32m    221\u001b[0m     \"\"\"\n\u001b[0;32m--> 222\u001b[0;31m     \u001b[0mlabels_true\u001b[0m\u001b[0;34m,\u001b[0m \u001b[0mlabels_pred\u001b[0m \u001b[0;34m=\u001b[0m \u001b[0mcheck_clusterings\u001b[0m\u001b[0;34m(\u001b[0m\u001b[0mlabels_true\u001b[0m\u001b[0;34m,\u001b[0m \u001b[0mlabels_pred\u001b[0m\u001b[0;34m)\u001b[0m\u001b[0;34m\u001b[0m\u001b[0;34m\u001b[0m\u001b[0m\n\u001b[0m\u001b[1;32m    223\u001b[0m     \u001b[0mn_samples\u001b[0m \u001b[0;34m=\u001b[0m \u001b[0mnp\u001b[0m\u001b[0;34m.\u001b[0m\u001b[0mint64\u001b[0m\u001b[0;34m(\u001b[0m\u001b[0mlabels_true\u001b[0m\u001b[0;34m.\u001b[0m\u001b[0mshape\u001b[0m\u001b[0;34m[\u001b[0m\u001b[0;36m0\u001b[0m\u001b[0;34m]\u001b[0m\u001b[0;34m)\u001b[0m\u001b[0;34m\u001b[0m\u001b[0;34m\u001b[0m\u001b[0m\n\u001b[1;32m    224\u001b[0m \u001b[0;34m\u001b[0m\u001b[0m\n",
            "\u001b[0;32m/usr/local/lib/python3.7/dist-packages/sklearn/metrics/cluster/_supervised.py\u001b[0m in \u001b[0;36mcheck_clusterings\u001b[0;34m(labels_true, labels_pred)\u001b[0m\n\u001b[1;32m     67\u001b[0m     \u001b[0;31m# input checks\u001b[0m\u001b[0;34m\u001b[0m\u001b[0;34m\u001b[0m\u001b[0;34m\u001b[0m\u001b[0m\n\u001b[1;32m     68\u001b[0m     \u001b[0;32mif\u001b[0m \u001b[0mlabels_true\u001b[0m\u001b[0;34m.\u001b[0m\u001b[0mndim\u001b[0m \u001b[0;34m!=\u001b[0m \u001b[0;36m1\u001b[0m\u001b[0;34m:\u001b[0m\u001b[0;34m\u001b[0m\u001b[0;34m\u001b[0m\u001b[0m\n\u001b[0;32m---> 69\u001b[0;31m         \u001b[0;32mraise\u001b[0m \u001b[0mValueError\u001b[0m\u001b[0;34m(\u001b[0m\u001b[0;34m\"labels_true must be 1D: shape is %r\"\u001b[0m \u001b[0;34m%\u001b[0m \u001b[0;34m(\u001b[0m\u001b[0mlabels_true\u001b[0m\u001b[0;34m.\u001b[0m\u001b[0mshape\u001b[0m\u001b[0;34m,\u001b[0m\u001b[0;34m)\u001b[0m\u001b[0;34m)\u001b[0m\u001b[0;34m\u001b[0m\u001b[0;34m\u001b[0m\u001b[0m\n\u001b[0m\u001b[1;32m     70\u001b[0m     \u001b[0;32mif\u001b[0m \u001b[0mlabels_pred\u001b[0m\u001b[0;34m.\u001b[0m\u001b[0mndim\u001b[0m \u001b[0;34m!=\u001b[0m \u001b[0;36m1\u001b[0m\u001b[0;34m:\u001b[0m\u001b[0;34m\u001b[0m\u001b[0;34m\u001b[0m\u001b[0m\n\u001b[1;32m     71\u001b[0m         \u001b[0;32mraise\u001b[0m \u001b[0mValueError\u001b[0m\u001b[0;34m(\u001b[0m\u001b[0;34m\"labels_pred must be 1D: shape is %r\"\u001b[0m \u001b[0;34m%\u001b[0m \u001b[0;34m(\u001b[0m\u001b[0mlabels_pred\u001b[0m\u001b[0;34m.\u001b[0m\u001b[0mshape\u001b[0m\u001b[0;34m,\u001b[0m\u001b[0;34m)\u001b[0m\u001b[0;34m)\u001b[0m\u001b[0;34m\u001b[0m\u001b[0;34m\u001b[0m\u001b[0m\n",
            "\u001b[0;31mValueError\u001b[0m: labels_true must be 1D: shape is (279992, 115)"
          ]
        }
      ]
    },
    {
      "cell_type": "markdown",
      "metadata": {
        "id": "4Lm8c02NYTqY"
      },
      "source": [
        "**Silhoute Score**"
      ]
    },
    {
      "cell_type": "code",
      "execution_count": null,
      "metadata": {
        "colab": {
          "background_save": true,
          "base_uri": "https://localhost:8080/"
        },
        "id": "VXnSnVnRS7Do",
        "outputId": "56b056c4-9988-4e95-f2f3-ed708f368643"
      },
      "outputs": [
        {
          "data": {
            "text/plain": [
              "0.5561428971260698"
            ]
          },
          "execution_count": 38,
          "metadata": {},
          "output_type": "execute_result"
        }
      ],
      "source": [
        "from sklearn.metrics import silhouette_samples, silhouette_score\n",
        "from yellowbrick.cluster import SilhouetteVisualizer\n",
        "\n",
        "score = silhouette_score(data_scaled, km.labels_, metric='euclidean')\n",
        "score"
      ]
    },
    {
      "cell_type": "markdown",
      "metadata": {
        "id": "Yr0C-V6yJxjC"
      },
      "source": [
        "**Calinski-Harabaz Index**"
      ]
    },
    {
      "cell_type": "code",
      "execution_count": null,
      "metadata": {
        "colab": {
          "base_uri": "https://localhost:8080/"
        },
        "id": "3rUGEHlyC_D8",
        "outputId": "ce787f8d-64e6-4c02-db62-92fd0df70aa4"
      },
      "outputs": [
        {
          "output_type": "execute_result",
          "data": {
            "text/plain": [
              "88916.08111508493"
            ]
          },
          "metadata": {},
          "execution_count": 15
        }
      ],
      "source": [
        "from sklearn import metrics\n",
        "metrics.calinski_harabasz_score(data_scaled, km.labels_) "
      ]
    },
    {
      "cell_type": "code",
      "execution_count": null,
      "metadata": {
        "colab": {
          "base_uri": "https://localhost:8080/"
        },
        "id": "naFk9K4zYcF3",
        "outputId": "ce108379-833a-48fb-ce60-a9340bba7ad3"
      },
      "outputs": [
        {
          "name": "stdout",
          "output_type": "stream",
          "text": [
            "1.163209797732498\n"
          ]
        }
      ],
      "source": [
        "from sklearn.metrics import davies_bouldin_score\n",
        "db_index = davies_bouldin_score(data_scaled, km.labels_)\n",
        "print(db_index)"
      ]
    },
    {
      "cell_type": "markdown",
      "metadata": {
        "id": "87cSGg7aJ6dC"
      },
      "source": [
        "**Silhouette Visualizer**"
      ]
    },
    {
      "cell_type": "code",
      "execution_count": null,
      "metadata": {
        "colab": {
          "base_uri": "https://localhost:8080/",
          "height": 393
        },
        "id": "xf5WaP3mZego",
        "outputId": "d3b4be77-da95-4c3b-b659-811cc568ea05"
      },
      "outputs": [
        {
          "data": {
            "image/png": "[encoded data removed]",
            "text/plain": [
              "<Figure size 576x396 with 1 Axes>"
            ]
          },
          "metadata": {},
          "output_type": "display_data"
        },
        {
          "data": {
            "text/plain": [
              "<matplotlib.axes._subplots.AxesSubplot at 0x7fa5929c0150>"
            ]
          },
          "execution_count": 14,
          "metadata": {},
          "output_type": "execute_result"
        }
      ],
      "source": [
        "visualizer = SilhouetteVisualizer(km, colors='yellowbrick')\n",
        "\n",
        "visualizer.fit(data_scaled)        # Fit the data to the visualizer\n",
        "visualizer.show()        # Finalize and render the figure"
      ]
    }
  ],
  "metadata": {
    "colab": {
      "collapsed_sections": [],
      "provenance": []
    },
    "kernelspec": {
      "display_name": "Python 3",
      "name": "python3"
    },
    "language_info": {
      "name": "python"
    }
  },
  "nbformat": 4,
  "nbformat_minor": 0
}