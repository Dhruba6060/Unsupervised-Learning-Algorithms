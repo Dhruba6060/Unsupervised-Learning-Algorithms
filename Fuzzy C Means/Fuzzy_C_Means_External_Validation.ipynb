{
  "nbformat": 4,
  "nbformat_minor": 0,
  "metadata": {
    "colab": {
      "provenance": [],
      "collapsed_sections": []
    },
    "kernelspec": {
      "name": "python3",
      "display_name": "Python 3"
    },
    "language_info": {
      "name": "python"
    }
  },
  "cells": [
    {
      "cell_type": "code",
      "execution_count": null,
      "metadata": {
        "colab": {
          "base_uri": "https://localhost:8080/",
          "height": 488
        },
        "id": "vBn-k7HPcHEr",
        "outputId": "3b118f8b-c954-49e6-8410-f66eefcc5e7a"
      },
      "outputs": [
        {
          "output_type": "execute_result",
          "data": {
            "text/plain": [
              "        MI_dir_L5_weight  MI_dir_L5_mean  MI_dir_L5_variance  \\\n",
              "0               1.000000      566.000000        0.000000e+00   \n",
              "1               1.996585      566.000000        5.820000e-11   \n",
              "2               2.958989      566.000000        0.000000e+00   \n",
              "3               3.958979      566.000000        0.000000e+00   \n",
              "4               4.914189      566.000000        1.160000e-10   \n",
              "...                  ...             ...                 ...   \n",
              "279987         39.256165      504.003978        2.219839e+04   \n",
              "279988         40.255905      505.245933        2.170751e+04   \n",
              "279989         41.255606      506.427690        2.123756e+04   \n",
              "279990         42.255469      507.553516        2.078725e+04   \n",
              "279991         43.240249      508.627665        2.035525e+04   \n",
              "\n",
              "        MI_dir_L3_weight  MI_dir_L3_mean  MI_dir_L3_variance  \\\n",
              "0               1.000000      566.000000        0.000000e+00   \n",
              "1               1.997950      566.000000        5.820000e-11   \n",
              "2               2.975291      566.000000        5.820000e-11   \n",
              "3               3.975285      566.000000        0.000000e+00   \n",
              "4               4.948239      566.000000        5.820000e-11   \n",
              "...                  ...             ...                 ...   \n",
              "279987         66.495961      426.545257        4.671683e+04   \n",
              "279988         67.495697      428.433595        4.626179e+04   \n",
              "279989         68.495396      430.266805        4.581322e+04   \n",
              "279990         69.495260      432.047260        4.537113e+04   \n",
              "279991         70.480240      433.777571        4.493541e+04   \n",
              "\n",
              "        MI_dir_L1_weight  MI_dir_L1_mean  MI_dir_L1_variance  \\\n",
              "0               1.000000      566.000000        0.000000e+00   \n",
              "1               1.999316      566.000000        0.000000e+00   \n",
              "2               2.991729      566.000000        5.820000e-11   \n",
              "3               3.991727      566.000000        1.160000e-10   \n",
              "4               4.982654      566.000000        5.820000e-11   \n",
              "...                  ...             ...                 ...   \n",
              "279987        259.096457      328.198231        6.054598e+04   \n",
              "279988        260.096115      329.066378        6.050847e+04   \n",
              "279989        261.095728      329.927877        6.046976e+04   \n",
              "279990        262.095555      330.782802        6.042988e+04   \n",
              "279991        263.076671      331.631290        6.038885e+04   \n",
              "\n",
              "        MI_dir_L0.1_weight  ...  HpHp_L0.1_covariance  HpHp_L0.1_pcc  \\\n",
              "0                 1.000000  ...                   0.0            0.0   \n",
              "1                 1.999932  ...                   0.0            0.0   \n",
              "2                 2.999171  ...                   0.0            0.0   \n",
              "3                 3.999171  ...                   0.0            0.0   \n",
              "4                 4.998261  ...                   0.0            0.0   \n",
              "...                    ...  ...                   ...            ...   \n",
              "279987         2788.201337  ...                   0.0            0.0   \n",
              "279988         2789.200968  ...                   0.0            0.0   \n",
              "279989         2790.200553  ...                   0.0            0.0   \n",
              "279990         2791.200369  ...                   0.0            0.0   \n",
              "279991         2792.180258  ...                   0.0            0.0   \n",
              "\n",
              "        HpHp_L0.01_weight  HpHp_L0.01_mean  HpHp_L0.01_std  \\\n",
              "0                1.000000            566.0        0.000000   \n",
              "1                1.000000            566.0        0.000000   \n",
              "2                1.000000            566.0        0.000000   \n",
              "3                1.000000            566.0        0.000000   \n",
              "4                1.000000            566.0        0.000000   \n",
              "...                   ...              ...             ...   \n",
              "279987        3132.118867            554.0        0.000037   \n",
              "279988        3133.118826            554.0        0.000037   \n",
              "279989        3134.118779            554.0        0.000037   \n",
              "279990        3135.118758            554.0        0.000039   \n",
              "279991        3136.116499            554.0        0.000037   \n",
              "\n",
              "        HpHp_L0.01_magnitude  HpHp_L0.01_radius  HpHp_L0.01_covariance  \\\n",
              "0                      566.0       0.000000e+00                    0.0   \n",
              "1                      566.0       0.000000e+00                    0.0   \n",
              "2                      566.0       0.000000e+00                    0.0   \n",
              "3                      566.0       0.000000e+00                    0.0   \n",
              "4                      566.0       0.000000e+00                    0.0   \n",
              "...                      ...                ...                    ...   \n",
              "279987                 554.0       1.400000e-09                    0.0   \n",
              "279988                 554.0       1.400000e-09                    0.0   \n",
              "279989                 554.0       1.400000e-09                    0.0   \n",
              "279990                 554.0       1.510000e-09                    0.0   \n",
              "279991                 554.0       1.400000e-09                    0.0   \n",
              "\n",
              "        HpHp_L0.01_pcc     class  \n",
              "0                  0.0       ack  \n",
              "1                  0.0       ack  \n",
              "2                  0.0       ack  \n",
              "3                  0.0       ack  \n",
              "4                  0.0       ack  \n",
              "...                ...       ...  \n",
              "279987             0.0  udpplain  \n",
              "279988             0.0  udpplain  \n",
              "279989             0.0  udpplain  \n",
              "279990             0.0  udpplain  \n",
              "279991             0.0  udpplain  \n",
              "\n",
              "[279992 rows x 116 columns]"
            ],
            "text/html": [
              "\n",
              "  <div id=\"df-a01208bf-8980-4510-ae5e-f6aab886b763\">\n",
              "    <div class=\"colab-df-container\">\n",
              "      <div>\n",
              "<style scoped>\n",
              "    .dataframe tbody tr th:only-of-type {\n",
              "        vertical-align: middle;\n",
              "    }\n",
              "\n",
              "    .dataframe tbody tr th {\n",
              "        vertical-align: top;\n",
              "    }\n",
              "\n",
              "    .dataframe thead th {\n",
              "        text-align: right;\n",
              "    }\n",
              "</style>\n",
              "<table border=\"1\" class=\"dataframe\">\n",
              "  <thead>\n",
              "    <tr style=\"text-align: right;\">\n",
              "      <th></th>\n",
              "      <th>MI_dir_L5_weight</th>\n",
              "      <th>MI_dir_L5_mean</th>\n",
              "      <th>MI_dir_L5_variance</th>\n",
              "      <th>MI_dir_L3_weight</th>\n",
              "      <th>MI_dir_L3_mean</th>\n",
              "      <th>MI_dir_L3_variance</th>\n",
              "      <th>MI_dir_L1_weight</th>\n",
              "      <th>MI_dir_L1_mean</th>\n",
              "      <th>MI_dir_L1_variance</th>\n",
              "      <th>MI_dir_L0.1_weight</th>\n",
              "      <th>...</th>\n",
              "      <th>HpHp_L0.1_covariance</th>\n",
              "      <th>HpHp_L0.1_pcc</th>\n",
              "      <th>HpHp_L0.01_weight</th>\n",
              "      <th>HpHp_L0.01_mean</th>\n",
              "      <th>HpHp_L0.01_std</th>\n",
              "      <th>HpHp_L0.01_magnitude</th>\n",
              "      <th>HpHp_L0.01_radius</th>\n",
              "      <th>HpHp_L0.01_covariance</th>\n",
              "      <th>HpHp_L0.01_pcc</th>\n",
              "      <th>class</th>\n",
              "    </tr>\n",
              "  </thead>\n",
              "  <tbody>\n",
              "    <tr>\n",
              "      <th>0</th>\n",
              "      <td>1.000000</td>\n",
              "      <td>566.000000</td>\n",
              "      <td>0.000000e+00</td>\n",
              "      <td>1.000000</td>\n",
              "      <td>566.000000</td>\n",
              "      <td>0.000000e+00</td>\n",
              "      <td>1.000000</td>\n",
              "      <td>566.000000</td>\n",
              "      <td>0.000000e+00</td>\n",
              "      <td>1.000000</td>\n",
              "      <td>...</td>\n",
              "      <td>0.0</td>\n",
              "      <td>0.0</td>\n",
              "      <td>1.000000</td>\n",
              "      <td>566.0</td>\n",
              "      <td>0.000000</td>\n",
              "      <td>566.0</td>\n",
              "      <td>0.000000e+00</td>\n",
              "      <td>0.0</td>\n",
              "      <td>0.0</td>\n",
              "      <td>ack</td>\n",
              "    </tr>\n",
              "    <tr>\n",
              "      <th>1</th>\n",
              "      <td>1.996585</td>\n",
              "      <td>566.000000</td>\n",
              "      <td>5.820000e-11</td>\n",
              "      <td>1.997950</td>\n",
              "      <td>566.000000</td>\n",
              "      <td>5.820000e-11</td>\n",
              "      <td>1.999316</td>\n",
              "      <td>566.000000</td>\n",
              "      <td>0.000000e+00</td>\n",
              "      <td>1.999932</td>\n",
              "      <td>...</td>\n",
              "      <td>0.0</td>\n",
              "      <td>0.0</td>\n",
              "      <td>1.000000</td>\n",
              "      <td>566.0</td>\n",
              "      <td>0.000000</td>\n",
              "      <td>566.0</td>\n",
              "      <td>0.000000e+00</td>\n",
              "      <td>0.0</td>\n",
              "      <td>0.0</td>\n",
              "      <td>ack</td>\n",
              "    </tr>\n",
              "    <tr>\n",
              "      <th>2</th>\n",
              "      <td>2.958989</td>\n",
              "      <td>566.000000</td>\n",
              "      <td>0.000000e+00</td>\n",
              "      <td>2.975291</td>\n",
              "      <td>566.000000</td>\n",
              "      <td>5.820000e-11</td>\n",
              "      <td>2.991729</td>\n",
              "      <td>566.000000</td>\n",
              "      <td>5.820000e-11</td>\n",
              "      <td>2.999171</td>\n",
              "      <td>...</td>\n",
              "      <td>0.0</td>\n",
              "      <td>0.0</td>\n",
              "      <td>1.000000</td>\n",
              "      <td>566.0</td>\n",
              "      <td>0.000000</td>\n",
              "      <td>566.0</td>\n",
              "      <td>0.000000e+00</td>\n",
              "      <td>0.0</td>\n",
              "      <td>0.0</td>\n",
              "      <td>ack</td>\n",
              "    </tr>\n",
              "    <tr>\n",
              "      <th>3</th>\n",
              "      <td>3.958979</td>\n",
              "      <td>566.000000</td>\n",
              "      <td>0.000000e+00</td>\n",
              "      <td>3.975285</td>\n",
              "      <td>566.000000</td>\n",
              "      <td>0.000000e+00</td>\n",
              "      <td>3.991727</td>\n",
              "      <td>566.000000</td>\n",
              "      <td>1.160000e-10</td>\n",
              "      <td>3.999171</td>\n",
              "      <td>...</td>\n",
              "      <td>0.0</td>\n",
              "      <td>0.0</td>\n",
              "      <td>1.000000</td>\n",
              "      <td>566.0</td>\n",
              "      <td>0.000000</td>\n",
              "      <td>566.0</td>\n",
              "      <td>0.000000e+00</td>\n",
              "      <td>0.0</td>\n",
              "      <td>0.0</td>\n",
              "      <td>ack</td>\n",
              "    </tr>\n",
              "    <tr>\n",
              "      <th>4</th>\n",
              "      <td>4.914189</td>\n",
              "      <td>566.000000</td>\n",
              "      <td>1.160000e-10</td>\n",
              "      <td>4.948239</td>\n",
              "      <td>566.000000</td>\n",
              "      <td>5.820000e-11</td>\n",
              "      <td>4.982654</td>\n",
              "      <td>566.000000</td>\n",
              "      <td>5.820000e-11</td>\n",
              "      <td>4.998261</td>\n",
              "      <td>...</td>\n",
              "      <td>0.0</td>\n",
              "      <td>0.0</td>\n",
              "      <td>1.000000</td>\n",
              "      <td>566.0</td>\n",
              "      <td>0.000000</td>\n",
              "      <td>566.0</td>\n",
              "      <td>0.000000e+00</td>\n",
              "      <td>0.0</td>\n",
              "      <td>0.0</td>\n",
              "      <td>ack</td>\n",
              "    </tr>\n",
              "    <tr>\n",
              "      <th>...</th>\n",
              "      <td>...</td>\n",
              "      <td>...</td>\n",
              "      <td>...</td>\n",
              "      <td>...</td>\n",
              "      <td>...</td>\n",
              "      <td>...</td>\n",
              "      <td>...</td>\n",
              "      <td>...</td>\n",
              "      <td>...</td>\n",
              "      <td>...</td>\n",
              "      <td>...</td>\n",
              "      <td>...</td>\n",
              "      <td>...</td>\n",
              "      <td>...</td>\n",
              "      <td>...</td>\n",
              "      <td>...</td>\n",
              "      <td>...</td>\n",
              "      <td>...</td>\n",
              "      <td>...</td>\n",
              "      <td>...</td>\n",
              "      <td>...</td>\n",
              "    </tr>\n",
              "    <tr>\n",
              "      <th>279987</th>\n",
              "      <td>39.256165</td>\n",
              "      <td>504.003978</td>\n",
              "      <td>2.219839e+04</td>\n",
              "      <td>66.495961</td>\n",
              "      <td>426.545257</td>\n",
              "      <td>4.671683e+04</td>\n",
              "      <td>259.096457</td>\n",
              "      <td>328.198231</td>\n",
              "      <td>6.054598e+04</td>\n",
              "      <td>2788.201337</td>\n",
              "      <td>...</td>\n",
              "      <td>0.0</td>\n",
              "      <td>0.0</td>\n",
              "      <td>3132.118867</td>\n",
              "      <td>554.0</td>\n",
              "      <td>0.000037</td>\n",
              "      <td>554.0</td>\n",
              "      <td>1.400000e-09</td>\n",
              "      <td>0.0</td>\n",
              "      <td>0.0</td>\n",
              "      <td>udpplain</td>\n",
              "    </tr>\n",
              "    <tr>\n",
              "      <th>279988</th>\n",
              "      <td>40.255905</td>\n",
              "      <td>505.245933</td>\n",
              "      <td>2.170751e+04</td>\n",
              "      <td>67.495697</td>\n",
              "      <td>428.433595</td>\n",
              "      <td>4.626179e+04</td>\n",
              "      <td>260.096115</td>\n",
              "      <td>329.066378</td>\n",
              "      <td>6.050847e+04</td>\n",
              "      <td>2789.200968</td>\n",
              "      <td>...</td>\n",
              "      <td>0.0</td>\n",
              "      <td>0.0</td>\n",
              "      <td>3133.118826</td>\n",
              "      <td>554.0</td>\n",
              "      <td>0.000037</td>\n",
              "      <td>554.0</td>\n",
              "      <td>1.400000e-09</td>\n",
              "      <td>0.0</td>\n",
              "      <td>0.0</td>\n",
              "      <td>udpplain</td>\n",
              "    </tr>\n",
              "    <tr>\n",
              "      <th>279989</th>\n",
              "      <td>41.255606</td>\n",
              "      <td>506.427690</td>\n",
              "      <td>2.123756e+04</td>\n",
              "      <td>68.495396</td>\n",
              "      <td>430.266805</td>\n",
              "      <td>4.581322e+04</td>\n",
              "      <td>261.095728</td>\n",
              "      <td>329.927877</td>\n",
              "      <td>6.046976e+04</td>\n",
              "      <td>2790.200553</td>\n",
              "      <td>...</td>\n",
              "      <td>0.0</td>\n",
              "      <td>0.0</td>\n",
              "      <td>3134.118779</td>\n",
              "      <td>554.0</td>\n",
              "      <td>0.000037</td>\n",
              "      <td>554.0</td>\n",
              "      <td>1.400000e-09</td>\n",
              "      <td>0.0</td>\n",
              "      <td>0.0</td>\n",
              "      <td>udpplain</td>\n",
              "    </tr>\n",
              "    <tr>\n",
              "      <th>279990</th>\n",
              "      <td>42.255469</td>\n",
              "      <td>507.553516</td>\n",
              "      <td>2.078725e+04</td>\n",
              "      <td>69.495260</td>\n",
              "      <td>432.047260</td>\n",
              "      <td>4.537113e+04</td>\n",
              "      <td>262.095555</td>\n",
              "      <td>330.782802</td>\n",
              "      <td>6.042988e+04</td>\n",
              "      <td>2791.200369</td>\n",
              "      <td>...</td>\n",
              "      <td>0.0</td>\n",
              "      <td>0.0</td>\n",
              "      <td>3135.118758</td>\n",
              "      <td>554.0</td>\n",
              "      <td>0.000039</td>\n",
              "      <td>554.0</td>\n",
              "      <td>1.510000e-09</td>\n",
              "      <td>0.0</td>\n",
              "      <td>0.0</td>\n",
              "      <td>udpplain</td>\n",
              "    </tr>\n",
              "    <tr>\n",
              "      <th>279991</th>\n",
              "      <td>43.240249</td>\n",
              "      <td>508.627665</td>\n",
              "      <td>2.035525e+04</td>\n",
              "      <td>70.480240</td>\n",
              "      <td>433.777571</td>\n",
              "      <td>4.493541e+04</td>\n",
              "      <td>263.076671</td>\n",
              "      <td>331.631290</td>\n",
              "      <td>6.038885e+04</td>\n",
              "      <td>2792.180258</td>\n",
              "      <td>...</td>\n",
              "      <td>0.0</td>\n",
              "      <td>0.0</td>\n",
              "      <td>3136.116499</td>\n",
              "      <td>554.0</td>\n",
              "      <td>0.000037</td>\n",
              "      <td>554.0</td>\n",
              "      <td>1.400000e-09</td>\n",
              "      <td>0.0</td>\n",
              "      <td>0.0</td>\n",
              "      <td>udpplain</td>\n",
              "    </tr>\n",
              "  </tbody>\n",
              "</table>\n",
              "<p>279992 rows × 116 columns</p>\n",
              "</div>\n",
              "      <button class=\"colab-df-convert\" onclick=\"convertToInteractive('df-a01208bf-8980-4510-ae5e-f6aab886b763')\"\n",
              "              title=\"Convert this dataframe to an interactive table.\"\n",
              "              style=\"display:none;\">\n",
              "        \n",
              "  <svg xmlns=\"http://www.w3.org/2000/svg\" height=\"24px\"viewBox=\"0 0 24 24\"\n",
              "       width=\"24px\">\n",
              "    <path d=\"M0 0h24v24H0V0z\" fill=\"none\"/>\n",
              "    <path d=\"M18.56 5.44l.94 2.06.94-2.06 2.06-.94-2.06-.94-.94-2.06-.94 2.06-2.06.94zm-11 1L8.5 8.5l.94-2.06 2.06-.94-2.06-.94L8.5 2.5l-.94 2.06-2.06.94zm10 10l.94 2.06.94-2.06 2.06-.94-2.06-.94-.94-2.06-.94 2.06-2.06.94z\"/><path d=\"M17.41 7.96l-1.37-1.37c-.4-.4-.92-.59-1.43-.59-.52 0-1.04.2-1.43.59L10.3 9.45l-7.72 7.72c-.78.78-.78 2.05 0 2.83L4 21.41c.39.39.9.59 1.41.59.51 0 1.02-.2 1.41-.59l7.78-7.78 2.81-2.81c.8-.78.8-2.07 0-2.86zM5.41 20L4 18.59l7.72-7.72 1.47 1.35L5.41 20z\"/>\n",
              "  </svg>\n",
              "      </button>\n",
              "      \n",
              "  <style>\n",
              "    .colab-df-container {\n",
              "      display:flex;\n",
              "      flex-wrap:wrap;\n",
              "      gap: 12px;\n",
              "    }\n",
              "\n",
              "    .colab-df-convert {\n",
              "      background-color: #E8F0FE;\n",
              "      border: none;\n",
              "      border-radius: 50%;\n",
              "      cursor: pointer;\n",
              "      display: none;\n",
              "      fill: #1967D2;\n",
              "      height: 32px;\n",
              "      padding: 0 0 0 0;\n",
              "      width: 32px;\n",
              "    }\n",
              "\n",
              "    .colab-df-convert:hover {\n",
              "      background-color: #E2EBFA;\n",
              "      box-shadow: 0px 1px 2px rgba(60, 64, 67, 0.3), 0px 1px 3px 1px rgba(60, 64, 67, 0.15);\n",
              "      fill: #174EA6;\n",
              "    }\n",
              "\n",
              "    [theme=dark] .colab-df-convert {\n",
              "      background-color: #3B4455;\n",
              "      fill: #D2E3FC;\n",
              "    }\n",
              "\n",
              "    [theme=dark] .colab-df-convert:hover {\n",
              "      background-color: #434B5C;\n",
              "      box-shadow: 0px 1px 3px 1px rgba(0, 0, 0, 0.15);\n",
              "      filter: drop-shadow(0px 1px 2px rgba(0, 0, 0, 0.3));\n",
              "      fill: #FFFFFF;\n",
              "    }\n",
              "  </style>\n",
              "\n",
              "      <script>\n",
              "        const buttonEl =\n",
              "          document.querySelector('#df-a01208bf-8980-4510-ae5e-f6aab886b763 button.colab-df-convert');\n",
              "        buttonEl.style.display =\n",
              "          google.colab.kernel.accessAllowed ? 'block' : 'none';\n",
              "\n",
              "        async function convertToInteractive(key) {\n",
              "          const element = document.querySelector('#df-a01208bf-8980-4510-ae5e-f6aab886b763');\n",
              "          const dataTable =\n",
              "            await google.colab.kernel.invokeFunction('convertToInteractive',\n",
              "                                                     [key], {});\n",
              "          if (!dataTable) return;\n",
              "\n",
              "          const docLinkHtml = 'Like what you see? Visit the ' +\n",
              "            '<a target=\"_blank\" href=https://colab.research.google.com/notebooks/data_table.ipynb>data table notebook</a>'\n",
              "            + ' to learn more about interactive tables.';\n",
              "          element.innerHTML = '';\n",
              "          dataTable['output_type'] = 'display_data';\n",
              "          await google.colab.output.renderOutput(dataTable, element);\n",
              "          const docLink = document.createElement('div');\n",
              "          docLink.innerHTML = docLinkHtml;\n",
              "          element.appendChild(docLink);\n",
              "        }\n",
              "      </script>\n",
              "    </div>\n",
              "  </div>\n",
              "  "
            ]
          },
          "metadata": {},
          "execution_count": 1
        }
      ],
      "source": [
        "import numpy as np\n",
        "import pandas as pd\n",
        "import matplotlib.pyplot as plt\n",
        "import seaborn as sn\n",
        "import warnings\n",
        "\n",
        "warnings.filterwarnings('ignore')\n",
        "\n",
        "data1=pd.read_csv('/content/drive/MyDrive/280k_data/ack_h.csv')\n",
        "data2=pd.read_csv('/content/drive/MyDrive/280k_data/benign_traffic_h.csv')\n",
        "data3=pd.read_csv('/content/drive/MyDrive/280k_data/junk_h.csv')\n",
        "data4=pd.read_csv('/content/drive/MyDrive/280k_data/scan_h.csv')\n",
        "data5=pd.read_csv('/content/drive/MyDrive/280k_data/syn_h.csv')\n",
        "data6=pd.read_csv('/content/drive/MyDrive/280k_data/tcp_h.csv')\n",
        "data7=pd.read_csv('/content/drive/MyDrive/280k_data/udp_h.csv')\n",
        "data8=pd.read_csv('/content/drive/MyDrive/280k_data/udpplain_h.csv')\n",
        "\n",
        "\n",
        "\n",
        "data1['class']='ack'\n",
        "data2['class']='benign'\n",
        "data3['class']='junk'\n",
        "data4['class']='scan'\n",
        "data5['class']='syn'\n",
        "data6['class']='tcp'\n",
        "data7['class']='udp'\n",
        "data8['class']='udpplain'\n",
        "\n",
        "\n",
        "data=pd.concat([data1,data2,data3,data4,data5,data6,data7,data8],\n",
        "\n",
        "               axis=0, sort=False, ignore_index=True)\n",
        "\n",
        "data.groupby('class')['class'].count()\n",
        "data"
      ]
    },
    {
      "cell_type": "code",
      "source": [
        "x=data['class'].unique()\n",
        "x"
      ],
      "metadata": {
        "colab": {
          "base_uri": "https://localhost:8080/"
        },
        "id": "j4skKkPZcVG6",
        "outputId": "6d496e32-ea77-46a2-9229-bb8b147053cd"
      },
      "execution_count": null,
      "outputs": [
        {
          "output_type": "execute_result",
          "data": {
            "text/plain": [
              "array(['ack', 'benign', 'junk', 'scan', 'syn', 'tcp', 'udp', 'udpplain'],\n",
              "      dtype=object)"
            ]
          },
          "metadata": {},
          "execution_count": 2
        }
      ]
    },
    {
      "cell_type": "code",
      "source": [
        "from sklearn.preprocessing import LabelEncoder\n",
        "le = LabelEncoder()\n",
        "data[\"class\"]= le.fit_transform(data[\"class\"])"
      ],
      "metadata": {
        "id": "Jg62I4JHcVJ1"
      },
      "execution_count": null,
      "outputs": []
    },
    {
      "cell_type": "code",
      "source": [
        "x=data['class'].unique()\n",
        "x"
      ],
      "metadata": {
        "colab": {
          "base_uri": "https://localhost:8080/"
        },
        "id": "K3FXwa5CdHY_",
        "outputId": "12d7927c-da63-417b-ec31-a8e3be69d9fa"
      },
      "execution_count": null,
      "outputs": [
        {
          "output_type": "execute_result",
          "data": {
            "text/plain": [
              "array([0, 1, 2, 3, 4, 5, 6, 7])"
            ]
          },
          "metadata": {},
          "execution_count": 4
        }
      ]
    },
    {
      "cell_type": "code",
      "source": [
        "data_np = np.array(data) \n",
        "data_np"
      ],
      "metadata": {
        "id": "kVghbzFPdj8_",
        "colab": {
          "base_uri": "https://localhost:8080/"
        },
        "outputId": "9e24a4ea-8368-4f4d-a418-7f363dc3e4fb"
      },
      "execution_count": null,
      "outputs": [
        {
          "output_type": "execute_result",
          "data": {
            "text/plain": [
              "array([[1.00000000e+00, 5.66000000e+02, 0.00000000e+00, ...,\n",
              "        0.00000000e+00, 0.00000000e+00, 0.00000000e+00],\n",
              "       [1.99658498e+00, 5.66000000e+02, 5.82000000e-11, ...,\n",
              "        0.00000000e+00, 0.00000000e+00, 0.00000000e+00],\n",
              "       [2.95898885e+00, 5.66000000e+02, 0.00000000e+00, ...,\n",
              "        0.00000000e+00, 0.00000000e+00, 0.00000000e+00],\n",
              "       ...,\n",
              "       [4.12556058e+01, 5.06427690e+02, 2.12375563e+04, ...,\n",
              "        0.00000000e+00, 0.00000000e+00, 7.00000000e+00],\n",
              "       [4.22554694e+01, 5.07553516e+02, 2.07872480e+04, ...,\n",
              "        0.00000000e+00, 0.00000000e+00, 7.00000000e+00],\n",
              "       [4.32402490e+01, 5.08627665e+02, 2.03552463e+04, ...,\n",
              "        0.00000000e+00, 0.00000000e+00, 7.00000000e+00]])"
            ]
          },
          "metadata": {},
          "execution_count": 5
        }
      ]
    },
    {
      "cell_type": "code",
      "source": [
        "pip install fuzzy-c-means"
      ],
      "metadata": {
        "colab": {
          "base_uri": "https://localhost:8080/"
        },
        "id": "pX2QKlXycVPG",
        "outputId": "4bbbb80d-2a9f-47b0-f8a2-56a352133930"
      },
      "execution_count": null,
      "outputs": [
        {
          "output_type": "stream",
          "name": "stdout",
          "text": [
            "Looking in indexes: https://pypi.org/simple, https://us-python.pkg.dev/colab-wheels/public/simple/\n",
            "Collecting fuzzy-c-means\n",
            "  Downloading fuzzy_c_means-1.6.3-py3-none-any.whl (9.1 kB)\n",
            "Requirement already satisfied: tabulate<0.9.0,>=0.8.9 in /usr/local/lib/python3.7/dist-packages (from fuzzy-c-means) (0.8.10)\n",
            "Requirement already satisfied: pydantic<2.0.0,>=1.8.2 in /usr/local/lib/python3.7/dist-packages (from fuzzy-c-means) (1.9.1)\n",
            "Requirement already satisfied: numpy<2.0.0,>=1.21.1 in /usr/local/lib/python3.7/dist-packages (from fuzzy-c-means) (1.21.6)\n",
            "Collecting typer<0.4.0,>=0.3.2\n",
            "  Downloading typer-0.3.2-py3-none-any.whl (21 kB)\n",
            "Requirement already satisfied: typing-extensions>=3.7.4.3 in /usr/local/lib/python3.7/dist-packages (from pydantic<2.0.0,>=1.8.2->fuzzy-c-means) (4.1.1)\n",
            "Requirement already satisfied: click<7.2.0,>=7.1.1 in /usr/local/lib/python3.7/dist-packages (from typer<0.4.0,>=0.3.2->fuzzy-c-means) (7.1.2)\n",
            "Installing collected packages: typer, fuzzy-c-means\n",
            "  Attempting uninstall: typer\n",
            "    Found existing installation: typer 0.4.2\n",
            "    Uninstalling typer-0.4.2:\n",
            "      Successfully uninstalled typer-0.4.2\n",
            "Successfully installed fuzzy-c-means-1.6.3 typer-0.3.2\n"
          ]
        }
      ]
    },
    {
      "cell_type": "code",
      "source": [
        "from fcmeans import FCM\n",
        "fcm = FCM(n_clusters=2)\n",
        "fcm.fit(data_np)"
      ],
      "metadata": {
        "id": "xD8YcB7OcVUV"
      },
      "execution_count": null,
      "outputs": []
    },
    {
      "cell_type": "code",
      "source": [
        "fcm_labels = fcm.predict(data_np)\n",
        "fcm_labels"
      ],
      "metadata": {
        "colab": {
          "base_uri": "https://localhost:8080/"
        },
        "id": "TeJ6dWh6cVWt",
        "outputId": "970fb0f8-a752-4e4d-9f14-3451f4cc2c26"
      },
      "execution_count": null,
      "outputs": [
        {
          "output_type": "execute_result",
          "data": {
            "text/plain": [
              "array([1, 0, 0, ..., 1, 1, 1])"
            ]
          },
          "metadata": {},
          "execution_count": 18
        }
      ]
    },
    {
      "cell_type": "code",
      "source": [
        "np.unique(fcm_labels)"
      ],
      "metadata": {
        "colab": {
          "base_uri": "https://localhost:8080/"
        },
        "id": "R4rnUroVcVfN",
        "outputId": "da94a691-04fe-40ee-d152-3e2520e3b33a"
      },
      "execution_count": null,
      "outputs": [
        {
          "output_type": "execute_result",
          "data": {
            "text/plain": [
              "array([0, 1])"
            ]
          },
          "metadata": {},
          "execution_count": 19
        }
      ]
    },
    {
      "cell_type": "markdown",
      "source": [
        "**Adjusted Rand Index**"
      ],
      "metadata": {
        "id": "VNQ0cD6rn6Lw"
      }
    },
    {
      "cell_type": "code",
      "source": [
        "from sklearn import metrics\n",
        "metrics.adjusted_rand_score(fcm_labels, data[\"class\"]) "
      ],
      "metadata": {
        "colab": {
          "base_uri": "https://localhost:8080/"
        },
        "id": "k2KfCWf8cVhk",
        "outputId": "ad3628a1-6693-4ea0-a443-92917317ad52"
      },
      "execution_count": null,
      "outputs": [
        {
          "output_type": "execute_result",
          "data": {
            "text/plain": [
              "0.027725837623756595"
            ]
          },
          "metadata": {},
          "execution_count": 20
        }
      ]
    },
    {
      "cell_type": "markdown",
      "source": [
        "**Fowlkes-Mallows score**"
      ],
      "metadata": {
        "id": "hJ6r0S-Zn-h6"
      }
    },
    {
      "cell_type": "code",
      "source": [
        "metrics.fowlkes_mallows_score(fcm_labels, data[\"class\"]) "
      ],
      "metadata": {
        "colab": {
          "base_uri": "https://localhost:8080/"
        },
        "id": "1OPGA1AjcVkf",
        "outputId": "0e2495e9-5445-4267-ccf0-0244e78305bd"
      },
      "execution_count": null,
      "outputs": [
        {
          "output_type": "execute_result",
          "data": {
            "text/plain": [
              "0.3594228232107765"
            ]
          },
          "metadata": {},
          "execution_count": 21
        }
      ]
    }
  ]
}