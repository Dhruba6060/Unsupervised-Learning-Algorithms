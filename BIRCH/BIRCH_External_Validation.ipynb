{
  "nbformat": 4,
  "nbformat_minor": 0,
  "metadata": {
    "colab": {
      "provenance": [],
      "collapsed_sections": []
    },
    "kernelspec": {
      "name": "python3",
      "display_name": "Python 3"
    },
    "language_info": {
      "name": "python"
    }
  },
  "cells": [
    {
      "cell_type": "code",
      "execution_count": null,
      "metadata": {
        "id": "p1rnQxvUFqrV"
      },
      "outputs": [],
      "source": [
        "import numpy as np\n",
        "import pandas as pd\n",
        "from xgboost import XGBClassifier\n",
        "import matplotlib.pyplot as plt\n",
        "import seaborn as sn\n",
        "import warnings\n",
        "warnings.filterwarnings('ignore')\n",
        "\n",
        "data1=pd.read_csv('/content/drive/MyDrive/280k_data/ack_h.csv')\n",
        "data2=pd.read_csv('/content/drive/MyDrive/280k_data/benign_traffic_h.csv')\n",
        "data3=pd.read_csv('/content/drive/MyDrive/280k_data/junk_h.csv')\n",
        "data4=pd.read_csv('/content/drive/MyDrive/280k_data/scan_h.csv')\n",
        "data5=pd.read_csv('/content/drive/MyDrive/280k_data/syn_h.csv')\n",
        "data6=pd.read_csv('/content/drive/MyDrive/280k_data/tcp_h.csv')\n",
        "data7=pd.read_csv('/content/drive/MyDrive/280k_data/udp_h.csv')\n",
        "data8=pd.read_csv('/content/drive/MyDrive/280k_data/udpplain_h.csv')\n",
        "\n",
        "\n",
        "data1['class']='ack'\n",
        "data2['class']='benign'\n",
        "data3['class']='junk'\n",
        "data4['class']='scan'\n",
        "data5['class']='syn'\n",
        "data6['class']='tcp'\n",
        "data7['class']='udp'\n",
        "data8['class']='udpplain'\n",
        "\n",
        "data=pd.concat([data1,data2,data3,data4,data5,data6,data7,data8],axis=0, sort=False, ignore_index=True)\n",
        "data.groupby('class')['class'].count()\n",
        "data"
      ]
    },
    {
      "cell_type": "code",
      "source": [
        "from google.colab import drive\n",
        "drive.mount('/content/drive')"
      ],
      "metadata": {
        "colab": {
          "base_uri": "https://localhost:8080/"
        },
        "id": "I7b5zTPzEIbY",
        "outputId": "119cd82d-c0f0-4345-f9d8-6c28b6c1182f"
      },
      "execution_count": null,
      "outputs": [
        {
          "output_type": "stream",
          "name": "stdout",
          "text": [
            "Mounted at /content/drive\n"
          ]
        }
      ]
    },
    {
      "cell_type": "code",
      "source": [
        "X=data['class'].unique()\n",
        "X"
      ],
      "metadata": {
        "id": "YWkD-5qLoY8d",
        "colab": {
          "base_uri": "https://localhost:8080/"
        },
        "outputId": "40a956ca-0716-4378-d4ed-faafff43ec80"
      },
      "execution_count": null,
      "outputs": [
        {
          "output_type": "execute_result",
          "data": {
            "text/plain": [
              "array(['ack', 'benign', 'junk', 'scan', 'syn', 'tcp', 'udp', 'udpplain'],\n",
              "      dtype=object)"
            ]
          },
          "metadata": {},
          "execution_count": 7
        }
      ]
    },
    {
      "cell_type": "code",
      "source": [
        "from sklearn.preprocessing import LabelEncoder\n",
        "le = LabelEncoder()\n",
        "data[\"class\"]= le.fit_transform(data[\"class\"])"
      ],
      "metadata": {
        "id": "Ahps5ic9ovBV"
      },
      "execution_count": null,
      "outputs": []
    },
    {
      "cell_type": "code",
      "source": [
        "data[\"class\"]"
      ],
      "metadata": {
        "colab": {
          "base_uri": "https://localhost:8080/"
        },
        "id": "EZNfrPrH67FK",
        "outputId": "e64c8c45-0e80-4e41-c244-6f191f6aba7d"
      },
      "execution_count": null,
      "outputs": [
        {
          "output_type": "execute_result",
          "data": {
            "text/plain": [
              "0         0\n",
              "1         0\n",
              "2         0\n",
              "3         0\n",
              "4         0\n",
              "         ..\n",
              "279987    7\n",
              "279988    7\n",
              "279989    7\n",
              "279990    7\n",
              "279991    7\n",
              "Name: class, Length: 279992, dtype: int64"
            ]
          },
          "metadata": {},
          "execution_count": 10
        }
      ]
    },
    {
      "cell_type": "code",
      "source": [
        "X=data['class'].unique()\n",
        "X"
      ],
      "metadata": {
        "colab": {
          "base_uri": "https://localhost:8080/"
        },
        "id": "hS7Wo7bnozfp",
        "outputId": "64c5f475-fe26-45d4-ba2f-4c4121a48013"
      },
      "execution_count": null,
      "outputs": [
        {
          "output_type": "execute_result",
          "data": {
            "text/plain": [
              "array([0, 1, 2, 3, 4, 5, 6, 7])"
            ]
          },
          "metadata": {},
          "execution_count": 11
        }
      ]
    },
    {
      "cell_type": "code",
      "source": [
        "from matplotlib import pyplot as plt\n",
        "import seaborn as sns\n",
        "sns.set()\n",
        "from sklearn.datasets import make_blobs\n",
        "from sklearn.cluster import Birch"
      ],
      "metadata": {
        "id": "w8HmEbNblN76"
      },
      "execution_count": null,
      "outputs": []
    },
    {
      "cell_type": "code",
      "source": [
        "data, y = make_blobs(n_samples=279992, centers=8, cluster_std=0.3, random_state=0)\n",
        "print('Dataset Size : ',data.shape, y.shape)"
      ],
      "metadata": {
        "colab": {
          "base_uri": "https://localhost:8080/"
        },
        "id": "G6YHQG928mhe",
        "outputId": "1a909101-86b4-4842-e0b7-7775ff50bb3f"
      },
      "execution_count": null,
      "outputs": [
        {
          "output_type": "stream",
          "name": "stdout",
          "text": [
            "Dataset Size :  (279992, 2) (279992,)\n"
          ]
        }
      ]
    },
    {
      "cell_type": "code",
      "source": [
        "y"
      ],
      "metadata": {
        "colab": {
          "base_uri": "https://localhost:8080/"
        },
        "id": "Emfv1zXLPB7y",
        "outputId": "fdbed9a0-a7fd-42de-e2ed-73173e7e5459"
      },
      "execution_count": null,
      "outputs": [
        {
          "output_type": "execute_result",
          "data": {
            "text/plain": [
              "array([3, 7, 2, ..., 7, 1, 5])"
            ]
          },
          "metadata": {},
          "execution_count": 55
        }
      ]
    },
    {
      "cell_type": "code",
      "source": [
        "from sklearn.cluster import Birch\n",
        "model = Birch(branching_factor=30, n_clusters=5, threshold=2.5)\n",
        "model.fit(data)\n",
        "pred = model.predict(data)"
      ],
      "metadata": {
        "id": "Ey-l-VyaHnyH"
      },
      "execution_count": null,
      "outputs": []
    },
    {
      "cell_type": "code",
      "source": [
        "model_labels = model.predict(data)\n",
        "model_labels"
      ],
      "metadata": {
        "colab": {
          "base_uri": "https://localhost:8080/"
        },
        "id": "e-yIAvTd99Kk",
        "outputId": "fae42fb8-4220-4c29-c0e2-15943fcc6e61"
      },
      "execution_count": null,
      "outputs": [
        {
          "output_type": "execute_result",
          "data": {
            "text/plain": [
              "array([0, 1, 2, ..., 1, 2, 3])"
            ]
          },
          "metadata": {},
          "execution_count": 29
        }
      ]
    },
    {
      "cell_type": "code",
      "source": [
        "model.labels_"
      ],
      "metadata": {
        "colab": {
          "base_uri": "https://localhost:8080/"
        },
        "id": "zrzMg8JQliUW",
        "outputId": "b9dd44f8-e343-401f-9e2e-0e52b0d5e59f"
      },
      "execution_count": null,
      "outputs": [
        {
          "output_type": "execute_result",
          "data": {
            "text/plain": [
              "array([0, 1, 2, ..., 1, 2, 3])"
            ]
          },
          "metadata": {},
          "execution_count": 33
        }
      ]
    },
    {
      "cell_type": "markdown",
      "source": [
        "**adjusted_rand_score**"
      ],
      "metadata": {
        "id": "xLjidSeU41Uq"
      }
    },
    {
      "cell_type": "code",
      "source": [
        "np.unique(model_labels)"
      ],
      "metadata": {
        "colab": {
          "base_uri": "https://localhost:8080/"
        },
        "id": "NH5QBpcA9KJP",
        "outputId": "bb4f318f-5c2b-449b-c5ea-a68f1cb9439e"
      },
      "execution_count": null,
      "outputs": [
        {
          "output_type": "execute_result",
          "data": {
            "text/plain": [
              "array([0, 1, 2, 3])"
            ]
          },
          "metadata": {},
          "execution_count": 35
        }
      ]
    },
    {
      "cell_type": "code",
      "source": [
        "from sklearn import metrics\n",
        "metrics.adjusted_rand_score(model_labels,y) "
      ],
      "metadata": {
        "colab": {
          "base_uri": "https://localhost:8080/"
        },
        "id": "1E8WWDkk9jUG",
        "outputId": "28490796-1c96-467f-dc4f-aae4128472cc"
      },
      "execution_count": null,
      "outputs": [
        {
          "output_type": "execute_result",
          "data": {
            "text/plain": [
              "0.534873916044383"
            ]
          },
          "metadata": {},
          "execution_count": 57
        }
      ]
    },
    {
      "cell_type": "markdown",
      "source": [
        "**fowlkes_mallows_score**"
      ],
      "metadata": {
        "id": "nEBKbBck43He"
      }
    },
    {
      "cell_type": "code",
      "source": [
        "metrics.fowlkes_mallows_score(model_labels,y) "
      ],
      "metadata": {
        "colab": {
          "base_uri": "https://localhost:8080/"
        },
        "id": "2YROztuMmyzm",
        "outputId": "6df58883-38ce-4fc6-f6ba-1cd3d0ae2608"
      },
      "execution_count": null,
      "outputs": [
        {
          "output_type": "execute_result",
          "data": {
            "text/plain": [
              "0.6666576716200425"
            ]
          },
          "metadata": {},
          "execution_count": 42
        }
      ]
    }
  ]
}