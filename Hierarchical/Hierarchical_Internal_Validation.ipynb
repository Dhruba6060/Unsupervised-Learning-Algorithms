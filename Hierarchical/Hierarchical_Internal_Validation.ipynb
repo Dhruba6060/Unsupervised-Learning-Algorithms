{
  "nbformat": 4,
  "nbformat_minor": 0,
  "metadata": {
    "colab": {
      "provenance": [],
      "collapsed_sections": []
    },
    "kernelspec": {
      "name": "python3",
      "display_name": "Python 3"
    },
    "language_info": {
      "name": "python"
    }
  },
  "cells": [
    {
      "cell_type": "code",
      "execution_count": null,
      "metadata": {
        "colab": {
          "base_uri": "https://localhost:8080/"
        },
        "id": "8gCO_umiJMUI",
        "outputId": "13727745-edbb-4012-ef74-7a4e7e69de35"
      },
      "outputs": [
        {
          "output_type": "stream",
          "name": "stdout",
          "text": [
            "Mounted at /content/drive\n"
          ]
        }
      ],
      "source": [
        "from google.colab import drive\n",
        "drive.mount('/content/drive')"
      ]
    },
    {
      "cell_type": "code",
      "source": [
        "import numpy as np\n",
        "import pandas as pd \n",
        "import matplotlib.pyplot as plt\n",
        "%matplotlib inline\n",
        "import seaborn as sn\n",
        "%matplotlib inline\n",
        "sn.set()\n",
        "import warnings\n",
        "warnings.filterwarnings('ignore')"
      ],
      "metadata": {
        "id": "Ts9QCJI6LVl9"
      },
      "execution_count": null,
      "outputs": []
    },
    {
      "cell_type": "code",
      "source": [
        "data1 = pd.read_csv('/content/drive/MyDrive/70k_data/ack_all_new.csv')\n",
        "data2 = pd.read_csv('/content/drive/MyDrive/70k_data/benign_all_new.csv')\n",
        "data3 = pd.read_csv('/content/drive/MyDrive/70k_data/junk_all_new.csv')\n",
        "data4 = pd.read_csv('/content/drive/MyDrive/70k_data/scan_all_new.csv')\n",
        "data5 = pd.read_csv('/content/drive/MyDrive/70k_data/syn_all_new.csv')\n",
        "#data6 = pd.read_csv('/content/drive/MyDrive/70k_data/tcp_all_new.csv')\n",
        "#data7 = pd.read_csv('/content/drive/MyDrive/70k_data/udp_all_new.csv')\n",
        "#data8 = pd.read_csv('/content/drive/MyDrive/70k_data/udpplain_all_new.csv')\n",
        "\n",
        "\n",
        "datas=pd.concat([data1,data2,data3,data4,data5], axis=0, sort=False, ignore_index=True)"
      ],
      "metadata": {
        "id": "YYtSQNDWWCwJ"
      },
      "execution_count": null,
      "outputs": []
    },
    {
      "cell_type": "code",
      "source": [
        "datas.shape"
      ],
      "metadata": {
        "colab": {
          "base_uri": "https://localhost:8080/"
        },
        "id": "GQH9hVFLMfdZ",
        "outputId": "690e6244-27fd-43e9-aff0-37d93fddf450"
      },
      "execution_count": null,
      "outputs": [
        {
          "output_type": "execute_result",
          "data": {
            "text/plain": [
              "(42005, 115)"
            ]
          },
          "metadata": {},
          "execution_count": 4
        }
      ]
    },
    {
      "cell_type": "code",
      "source": [
        "from sklearn.preprocessing import StandardScaler\n",
        "\n",
        "scaler = StandardScaler()\n",
        "data_scaled = scaler.fit_transform(datas)"
      ],
      "metadata": {
        "id": "rGauGz9iVRXc"
      },
      "execution_count": null,
      "outputs": []
    },
    {
      "cell_type": "code",
      "source": [
        "from sklearn.decomposition import PCA\n",
        "pca = PCA(n_components=2)\n",
        "pca.fit(data_scaled)\n",
        "data_pca = pca.transform(data_scaled)\n",
        "data_pca.shape"
      ],
      "metadata": {
        "colab": {
          "base_uri": "https://localhost:8080/"
        },
        "id": "UhL4Ytm2VGtp",
        "outputId": "47a2f5c4-6ab0-4601-dbb5-d53c1d792a7c"
      },
      "execution_count": null,
      "outputs": [
        {
          "output_type": "execute_result",
          "data": {
            "text/plain": [
              "(42005, 2)"
            ]
          },
          "metadata": {},
          "execution_count": 7
        }
      ]
    },
    {
      "cell_type": "code",
      "source": [
        "from sklearn.cluster import AgglomerativeClustering\n",
        "\n",
        "cluster = AgglomerativeClustering(n_clusters=6, affinity='euclidean', linkage='ward')  \n"
      ],
      "metadata": {
        "id": "AL6fMoMFM9kT"
      },
      "execution_count": null,
      "outputs": []
    },
    {
      "cell_type": "code",
      "source": [
        "labels_=cluster.fit_predict(data_pca)"
      ],
      "metadata": {
        "id": "8ZlZaoEDRtGO"
      },
      "execution_count": null,
      "outputs": []
    },
    {
      "cell_type": "code",
      "source": [
        "labels_"
      ],
      "metadata": {
        "id": "ra7Frm06VYpN",
        "colab": {
          "base_uri": "https://localhost:8080/"
        },
        "outputId": "2ea20af9-730d-465b-c628-037ac5468e03"
      },
      "execution_count": null,
      "outputs": [
        {
          "output_type": "execute_result",
          "data": {
            "text/plain": [
              "array([2, 2, 2, ..., 2, 2, 2])"
            ]
          },
          "metadata": {},
          "execution_count": 8
        }
      ]
    },
    {
      "cell_type": "code",
      "source": [
        "print(np.unique(cluster.labels_))"
      ],
      "metadata": {
        "id": "RmgsbHK3Vdub",
        "colab": {
          "base_uri": "https://localhost:8080/"
        },
        "outputId": "bc03a272-841c-4c05-daee-088581fbcff5"
      },
      "execution_count": null,
      "outputs": [
        {
          "output_type": "stream",
          "name": "stdout",
          "text": [
            "[0 1 2 3 4 5]\n"
          ]
        }
      ]
    },
    {
      "cell_type": "markdown",
      "source": [
        "**Silhouetter Score**"
      ],
      "metadata": {
        "id": "eMtMVaHn4WFS"
      }
    },
    {
      "cell_type": "code",
      "source": [
        "from sklearn.metrics import silhouette_samples,silhouette_score\n",
        "from yellowbrick.cluster import silhouette_visualizer\n",
        "score = silhouette_score(datas,cluster.labels_,metric='euclidean')"
      ],
      "metadata": {
        "id": "aw7XjFA5_8Tb"
      },
      "execution_count": null,
      "outputs": []
    },
    {
      "cell_type": "code",
      "source": [
        "print('Silhouetter Score: %.3f' % score)"
      ],
      "metadata": {
        "colab": {
          "base_uri": "https://localhost:8080/"
        },
        "id": "hyB1r2RGXOtC",
        "outputId": "a79c700a-5991-4e4c-ec5a-455c5b72df06"
      },
      "execution_count": null,
      "outputs": [
        {
          "output_type": "stream",
          "name": "stdout",
          "text": [
            "Silhouetter Score: 0.955\n"
          ]
        }
      ]
    },
    {
      "cell_type": "markdown",
      "source": [
        "**Calinski-Harabaz Index**"
      ],
      "metadata": {
        "id": "BM95PBS2QwfC"
      }
    },
    {
      "cell_type": "code",
      "source": [
        "from sklearn.cluster import AgglomerativeClustering\n",
        "\n",
        "cluster = AgglomerativeClustering(n_clusters=8, affinity='euclidean', linkage='ward')  "
      ],
      "metadata": {
        "id": "SNQdnmpINyVe"
      },
      "execution_count": null,
      "outputs": []
    },
    {
      "cell_type": "code",
      "source": [
        "from sklearn.preprocessing import StandardScaler\n",
        "\n",
        "scaler = StandardScaler()\n",
        "data_scaled = scaler.fit_transform(datas)"
      ],
      "metadata": {
        "id": "T-e4jDbEN1YE"
      },
      "execution_count": null,
      "outputs": []
    },
    {
      "cell_type": "code",
      "source": [
        "from sklearn import metrics\n"
      ],
      "metadata": {
        "id": "quzIAcB2MrIG"
      },
      "execution_count": null,
      "outputs": []
    },
    {
      "cell_type": "code",
      "source": [
        "print(metrics.calinski_harabasz_score(datas,labels_))"
      ],
      "metadata": {
        "colab": {
          "base_uri": "https://localhost:8080/"
        },
        "id": "1kK-jLP6PRYs",
        "outputId": "ba34c3e4-bf86-4648-8b55-240423e7fd75"
      },
      "execution_count": null,
      "outputs": [
        {
          "output_type": "stream",
          "name": "stdout",
          "text": [
            "561020.9416565963\n"
          ]
        }
      ]
    }
  ]
}