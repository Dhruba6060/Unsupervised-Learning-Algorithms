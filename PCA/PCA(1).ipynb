{
  "cells": [
    {
      "cell_type": "code",
      "execution_count": null,
      "metadata": {
        "id": "nZVLP-h6ac8U"
      },
      "outputs": [],
      "source": [
        "import pandas as pd\n",
        "import numpy as np\n",
        "import matplotlib.pyplot as plt\n",
        "from sklearn.cluster import KMeans\n",
        "from sklearn.preprocessing import StandardScaler, normalize\n",
        "from sklearn.metrics import silhouette_score"
      ]
    },
    {
      "cell_type": "code",
      "execution_count": null,
      "metadata": {
        "colab": {
          "base_uri": "https://localhost:8080/"
        },
        "id": "t60jZI3kWKxI",
        "outputId": "1e374728-857d-4d50-c457-b04dd3c79555"
      },
      "outputs": [
        {
          "name": "stdout",
          "output_type": "stream",
          "text": [
            "Mounted at /content/drive\n"
          ]
        }
      ],
      "source": [
        "from google.colab import drive\n",
        "drive.mount('/content/drive')"
      ]
    },
    {
      "cell_type": "code",
      "execution_count": null,
      "metadata": {
        "colab": {
          "background_save": true
        },
        "id": "1X58Ubh2AlfW"
      },
      "outputs": [],
      "source": [
        "data1=pd.read_csv('/content/drive/MyDrive/280k_data/ack_h.csv')\n",
        "data2=pd.read_csv('/content/drive/MyDrive/280k_data/benign_traffic_h.csv')\n",
        "data3=pd.read_csv('/content/drive/MyDrive/280k_data/junk_h.csv')\n",
        "data4=pd.read_csv('/content/drive/MyDrive/280k_data/scan_h.csv')\n",
        "data5=pd.read_csv('/content/drive/MyDrive/280k_data/syn_h.csv')\n",
        "data6=pd.read_csv('/content/drive/MyDrive/280k_data/tcp_h.csv')\n",
        "data7=pd.read_csv('/content/drive/MyDrive/280k_data/udp_h.csv')\n",
        "data8=pd.read_csv('/content/drive/MyDrive/280k_data/udpplain_h.csv')"
      ]
    },
    {
      "cell_type": "code",
      "execution_count": null,
      "metadata": {
        "id": "H04ZKb_obCk7"
      },
      "outputs": [],
      "source": [
        "X=pd.concat([data1,data2,data3,data4,data5,data6,data7,data8],axis=0 ,sort=False ,ignore_index=True)"
      ]
    },
    {
      "cell_type": "code",
      "execution_count": null,
      "metadata": {
        "colab": {
          "base_uri": "https://localhost:8080/",
          "height": 488
        },
        "id": "_YSBEZclbIPu",
        "outputId": "c597762d-757e-49ec-f285-4d4ec075090c"
      },
      "outputs": [
        {
          "data": {
            "text/html": [
              "\n",
              "  <div id=\"df-52e8604c-155f-4498-b1b9-5e30ad1d6897\">\n",
              "    <div class=\"colab-df-container\">\n",
              "      <div>\n",
              "<style scoped>\n",
              "    .dataframe tbody tr th:only-of-type {\n",
              "        vertical-align: middle;\n",
              "    }\n",
              "\n",
              "    .dataframe tbody tr th {\n",
              "        vertical-align: top;\n",
              "    }\n",
              "\n",
              "    .dataframe thead th {\n",
              "        text-align: right;\n",
              "    }\n",
              "</style>\n",
              "<table border=\"1\" class=\"dataframe\">\n",
              "  <thead>\n",
              "    <tr style=\"text-align: right;\">\n",
              "      <th></th>\n",
              "      <th>MI_dir_L5_weight</th>\n",
              "      <th>MI_dir_L5_mean</th>\n",
              "      <th>MI_dir_L5_variance</th>\n",
              "      <th>MI_dir_L3_weight</th>\n",
              "      <th>MI_dir_L3_mean</th>\n",
              "      <th>MI_dir_L3_variance</th>\n",
              "      <th>MI_dir_L1_weight</th>\n",
              "      <th>MI_dir_L1_mean</th>\n",
              "      <th>MI_dir_L1_variance</th>\n",
              "      <th>MI_dir_L0.1_weight</th>\n",
              "      <th>...</th>\n",
              "      <th>HpHp_L0.1_radius</th>\n",
              "      <th>HpHp_L0.1_covariance</th>\n",
              "      <th>HpHp_L0.1_pcc</th>\n",
              "      <th>HpHp_L0.01_weight</th>\n",
              "      <th>HpHp_L0.01_mean</th>\n",
              "      <th>HpHp_L0.01_std</th>\n",
              "      <th>HpHp_L0.01_magnitude</th>\n",
              "      <th>HpHp_L0.01_radius</th>\n",
              "      <th>HpHp_L0.01_covariance</th>\n",
              "      <th>HpHp_L0.01_pcc</th>\n",
              "    </tr>\n",
              "  </thead>\n",
              "  <tbody>\n",
              "    <tr>\n",
              "      <th>0</th>\n",
              "      <td>1.000000</td>\n",
              "      <td>566.000000</td>\n",
              "      <td>0.000000e+00</td>\n",
              "      <td>1.000000</td>\n",
              "      <td>566.000000</td>\n",
              "      <td>0.000000e+00</td>\n",
              "      <td>1.000000</td>\n",
              "      <td>566.000000</td>\n",
              "      <td>0.000000e+00</td>\n",
              "      <td>1.000000</td>\n",
              "      <td>...</td>\n",
              "      <td>0.000000e+00</td>\n",
              "      <td>0.0</td>\n",
              "      <td>0.0</td>\n",
              "      <td>1.000000</td>\n",
              "      <td>566.0</td>\n",
              "      <td>0.000000</td>\n",
              "      <td>566.0</td>\n",
              "      <td>0.000000e+00</td>\n",
              "      <td>0.0</td>\n",
              "      <td>0.0</td>\n",
              "    </tr>\n",
              "    <tr>\n",
              "      <th>1</th>\n",
              "      <td>1.996585</td>\n",
              "      <td>566.000000</td>\n",
              "      <td>5.820000e-11</td>\n",
              "      <td>1.997950</td>\n",
              "      <td>566.000000</td>\n",
              "      <td>5.820000e-11</td>\n",
              "      <td>1.999316</td>\n",
              "      <td>566.000000</td>\n",
              "      <td>0.000000e+00</td>\n",
              "      <td>1.999932</td>\n",
              "      <td>...</td>\n",
              "      <td>0.000000e+00</td>\n",
              "      <td>0.0</td>\n",
              "      <td>0.0</td>\n",
              "      <td>1.000000</td>\n",
              "      <td>566.0</td>\n",
              "      <td>0.000000</td>\n",
              "      <td>566.0</td>\n",
              "      <td>0.000000e+00</td>\n",
              "      <td>0.0</td>\n",
              "      <td>0.0</td>\n",
              "    </tr>\n",
              "    <tr>\n",
              "      <th>2</th>\n",
              "      <td>2.958989</td>\n",
              "      <td>566.000000</td>\n",
              "      <td>0.000000e+00</td>\n",
              "      <td>2.975291</td>\n",
              "      <td>566.000000</td>\n",
              "      <td>5.820000e-11</td>\n",
              "      <td>2.991729</td>\n",
              "      <td>566.000000</td>\n",
              "      <td>5.820000e-11</td>\n",
              "      <td>2.999171</td>\n",
              "      <td>...</td>\n",
              "      <td>0.000000e+00</td>\n",
              "      <td>0.0</td>\n",
              "      <td>0.0</td>\n",
              "      <td>1.000000</td>\n",
              "      <td>566.0</td>\n",
              "      <td>0.000000</td>\n",
              "      <td>566.0</td>\n",
              "      <td>0.000000e+00</td>\n",
              "      <td>0.0</td>\n",
              "      <td>0.0</td>\n",
              "    </tr>\n",
              "    <tr>\n",
              "      <th>3</th>\n",
              "      <td>3.958979</td>\n",
              "      <td>566.000000</td>\n",
              "      <td>0.000000e+00</td>\n",
              "      <td>3.975285</td>\n",
              "      <td>566.000000</td>\n",
              "      <td>0.000000e+00</td>\n",
              "      <td>3.991727</td>\n",
              "      <td>566.000000</td>\n",
              "      <td>1.160000e-10</td>\n",
              "      <td>3.999171</td>\n",
              "      <td>...</td>\n",
              "      <td>0.000000e+00</td>\n",
              "      <td>0.0</td>\n",
              "      <td>0.0</td>\n",
              "      <td>1.000000</td>\n",
              "      <td>566.0</td>\n",
              "      <td>0.000000</td>\n",
              "      <td>566.0</td>\n",
              "      <td>0.000000e+00</td>\n",
              "      <td>0.0</td>\n",
              "      <td>0.0</td>\n",
              "    </tr>\n",
              "    <tr>\n",
              "      <th>4</th>\n",
              "      <td>4.914189</td>\n",
              "      <td>566.000000</td>\n",
              "      <td>1.160000e-10</td>\n",
              "      <td>4.948239</td>\n",
              "      <td>566.000000</td>\n",
              "      <td>5.820000e-11</td>\n",
              "      <td>4.982654</td>\n",
              "      <td>566.000000</td>\n",
              "      <td>5.820000e-11</td>\n",
              "      <td>4.998261</td>\n",
              "      <td>...</td>\n",
              "      <td>0.000000e+00</td>\n",
              "      <td>0.0</td>\n",
              "      <td>0.0</td>\n",
              "      <td>1.000000</td>\n",
              "      <td>566.0</td>\n",
              "      <td>0.000000</td>\n",
              "      <td>566.0</td>\n",
              "      <td>0.000000e+00</td>\n",
              "      <td>0.0</td>\n",
              "      <td>0.0</td>\n",
              "    </tr>\n",
              "    <tr>\n",
              "      <th>...</th>\n",
              "      <td>...</td>\n",
              "      <td>...</td>\n",
              "      <td>...</td>\n",
              "      <td>...</td>\n",
              "      <td>...</td>\n",
              "      <td>...</td>\n",
              "      <td>...</td>\n",
              "      <td>...</td>\n",
              "      <td>...</td>\n",
              "      <td>...</td>\n",
              "      <td>...</td>\n",
              "      <td>...</td>\n",
              "      <td>...</td>\n",
              "      <td>...</td>\n",
              "      <td>...</td>\n",
              "      <td>...</td>\n",
              "      <td>...</td>\n",
              "      <td>...</td>\n",
              "      <td>...</td>\n",
              "      <td>...</td>\n",
              "      <td>...</td>\n",
              "    </tr>\n",
              "    <tr>\n",
              "      <th>279987</th>\n",
              "      <td>39.256165</td>\n",
              "      <td>504.003978</td>\n",
              "      <td>2.219839e+04</td>\n",
              "      <td>66.495961</td>\n",
              "      <td>426.545257</td>\n",
              "      <td>4.671683e+04</td>\n",
              "      <td>259.096457</td>\n",
              "      <td>328.198231</td>\n",
              "      <td>6.054598e+04</td>\n",
              "      <td>2788.201337</td>\n",
              "      <td>...</td>\n",
              "      <td>5.240000e-10</td>\n",
              "      <td>0.0</td>\n",
              "      <td>0.0</td>\n",
              "      <td>3132.118867</td>\n",
              "      <td>554.0</td>\n",
              "      <td>0.000037</td>\n",
              "      <td>554.0</td>\n",
              "      <td>1.400000e-09</td>\n",
              "      <td>0.0</td>\n",
              "      <td>0.0</td>\n",
              "    </tr>\n",
              "    <tr>\n",
              "      <th>279988</th>\n",
              "      <td>40.255905</td>\n",
              "      <td>505.245933</td>\n",
              "      <td>2.170751e+04</td>\n",
              "      <td>67.495697</td>\n",
              "      <td>428.433595</td>\n",
              "      <td>4.626179e+04</td>\n",
              "      <td>260.096115</td>\n",
              "      <td>329.066378</td>\n",
              "      <td>6.050847e+04</td>\n",
              "      <td>2789.200968</td>\n",
              "      <td>...</td>\n",
              "      <td>4.660000e-10</td>\n",
              "      <td>0.0</td>\n",
              "      <td>0.0</td>\n",
              "      <td>3133.118826</td>\n",
              "      <td>554.0</td>\n",
              "      <td>0.000037</td>\n",
              "      <td>554.0</td>\n",
              "      <td>1.400000e-09</td>\n",
              "      <td>0.0</td>\n",
              "      <td>0.0</td>\n",
              "    </tr>\n",
              "    <tr>\n",
              "      <th>279989</th>\n",
              "      <td>41.255606</td>\n",
              "      <td>506.427690</td>\n",
              "      <td>2.123756e+04</td>\n",
              "      <td>68.495396</td>\n",
              "      <td>430.266805</td>\n",
              "      <td>4.581322e+04</td>\n",
              "      <td>261.095728</td>\n",
              "      <td>329.927877</td>\n",
              "      <td>6.046976e+04</td>\n",
              "      <td>2790.200553</td>\n",
              "      <td>...</td>\n",
              "      <td>5.240000e-10</td>\n",
              "      <td>0.0</td>\n",
              "      <td>0.0</td>\n",
              "      <td>3134.118779</td>\n",
              "      <td>554.0</td>\n",
              "      <td>0.000037</td>\n",
              "      <td>554.0</td>\n",
              "      <td>1.400000e-09</td>\n",
              "      <td>0.0</td>\n",
              "      <td>0.0</td>\n",
              "    </tr>\n",
              "    <tr>\n",
              "      <th>279990</th>\n",
              "      <td>42.255469</td>\n",
              "      <td>507.553516</td>\n",
              "      <td>2.078725e+04</td>\n",
              "      <td>69.495260</td>\n",
              "      <td>432.047260</td>\n",
              "      <td>4.537113e+04</td>\n",
              "      <td>262.095555</td>\n",
              "      <td>330.782802</td>\n",
              "      <td>6.042988e+04</td>\n",
              "      <td>2791.200369</td>\n",
              "      <td>...</td>\n",
              "      <td>4.660000e-10</td>\n",
              "      <td>0.0</td>\n",
              "      <td>0.0</td>\n",
              "      <td>3135.118758</td>\n",
              "      <td>554.0</td>\n",
              "      <td>0.000039</td>\n",
              "      <td>554.0</td>\n",
              "      <td>1.510000e-09</td>\n",
              "      <td>0.0</td>\n",
              "      <td>0.0</td>\n",
              "    </tr>\n",
              "    <tr>\n",
              "      <th>279991</th>\n",
              "      <td>43.240249</td>\n",
              "      <td>508.627665</td>\n",
              "      <td>2.035525e+04</td>\n",
              "      <td>70.480240</td>\n",
              "      <td>433.777571</td>\n",
              "      <td>4.493541e+04</td>\n",
              "      <td>263.076671</td>\n",
              "      <td>331.631290</td>\n",
              "      <td>6.038885e+04</td>\n",
              "      <td>2792.180258</td>\n",
              "      <td>...</td>\n",
              "      <td>4.660000e-10</td>\n",
              "      <td>0.0</td>\n",
              "      <td>0.0</td>\n",
              "      <td>3136.116499</td>\n",
              "      <td>554.0</td>\n",
              "      <td>0.000037</td>\n",
              "      <td>554.0</td>\n",
              "      <td>1.400000e-09</td>\n",
              "      <td>0.0</td>\n",
              "      <td>0.0</td>\n",
              "    </tr>\n",
              "  </tbody>\n",
              "</table>\n",
              "<p>279992 rows × 115 columns</p>\n",
              "</div>\n",
              "      <button class=\"colab-df-convert\" onclick=\"convertToInteractive('df-52e8604c-155f-4498-b1b9-5e30ad1d6897')\"\n",
              "              title=\"Convert this dataframe to an interactive table.\"\n",
              "              style=\"display:none;\">\n",
              "        \n",
              "  <svg xmlns=\"http://www.w3.org/2000/svg\" height=\"24px\"viewBox=\"0 0 24 24\"\n",
              "       width=\"24px\">\n",
              "    <path d=\"M0 0h24v24H0V0z\" fill=\"none\"/>\n",
              "    <path d=\"M18.56 5.44l.94 2.06.94-2.06 2.06-.94-2.06-.94-.94-2.06-.94 2.06-2.06.94zm-11 1L8.5 8.5l.94-2.06 2.06-.94-2.06-.94L8.5 2.5l-.94 2.06-2.06.94zm10 10l.94 2.06.94-2.06 2.06-.94-2.06-.94-.94-2.06-.94 2.06-2.06.94z\"/><path d=\"M17.41 7.96l-1.37-1.37c-.4-.4-.92-.59-1.43-.59-.52 0-1.04.2-1.43.59L10.3 9.45l-7.72 7.72c-.78.78-.78 2.05 0 2.83L4 21.41c.39.39.9.59 1.41.59.51 0 1.02-.2 1.41-.59l7.78-7.78 2.81-2.81c.8-.78.8-2.07 0-2.86zM5.41 20L4 18.59l7.72-7.72 1.47 1.35L5.41 20z\"/>\n",
              "  </svg>\n",
              "      </button>\n",
              "      \n",
              "  <style>\n",
              "    .colab-df-container {\n",
              "      display:flex;\n",
              "      flex-wrap:wrap;\n",
              "      gap: 12px;\n",
              "    }\n",
              "\n",
              "    .colab-df-convert {\n",
              "      background-color: #E8F0FE;\n",
              "      border: none;\n",
              "      border-radius: 50%;\n",
              "      cursor: pointer;\n",
              "      display: none;\n",
              "      fill: #1967D2;\n",
              "      height: 32px;\n",
              "      padding: 0 0 0 0;\n",
              "      width: 32px;\n",
              "    }\n",
              "\n",
              "    .colab-df-convert:hover {\n",
              "      background-color: #E2EBFA;\n",
              "      box-shadow: 0px 1px 2px rgba(60, 64, 67, 0.3), 0px 1px 3px 1px rgba(60, 64, 67, 0.15);\n",
              "      fill: #174EA6;\n",
              "    }\n",
              "\n",
              "    [theme=dark] .colab-df-convert {\n",
              "      background-color: #3B4455;\n",
              "      fill: #D2E3FC;\n",
              "    }\n",
              "\n",
              "    [theme=dark] .colab-df-convert:hover {\n",
              "      background-color: #434B5C;\n",
              "      box-shadow: 0px 1px 3px 1px rgba(0, 0, 0, 0.15);\n",
              "      filter: drop-shadow(0px 1px 2px rgba(0, 0, 0, 0.3));\n",
              "      fill: #FFFFFF;\n",
              "    }\n",
              "  </style>\n",
              "\n",
              "      <script>\n",
              "        const buttonEl =\n",
              "          document.querySelector('#df-52e8604c-155f-4498-b1b9-5e30ad1d6897 button.colab-df-convert');\n",
              "        buttonEl.style.display =\n",
              "          google.colab.kernel.accessAllowed ? 'block' : 'none';\n",
              "\n",
              "        async function convertToInteractive(key) {\n",
              "          const element = document.querySelector('#df-52e8604c-155f-4498-b1b9-5e30ad1d6897');\n",
              "          const dataTable =\n",
              "            await google.colab.kernel.invokeFunction('convertToInteractive',\n",
              "                                                     [key], {});\n",
              "          if (!dataTable) return;\n",
              "\n",
              "          const docLinkHtml = 'Like what you see? Visit the ' +\n",
              "            '<a target=\"_blank\" href=https://colab.research.google.com/notebooks/data_table.ipynb>data table notebook</a>'\n",
              "            + ' to learn more about interactive tables.';\n",
              "          element.innerHTML = '';\n",
              "          dataTable['output_type'] = 'display_data';\n",
              "          await google.colab.output.renderOutput(dataTable, element);\n",
              "          const docLink = document.createElement('div');\n",
              "          docLink.innerHTML = docLinkHtml;\n",
              "          element.appendChild(docLink);\n",
              "        }\n",
              "      </script>\n",
              "    </div>\n",
              "  </div>\n",
              "  "
            ],
            "text/plain": [
              "        MI_dir_L5_weight  MI_dir_L5_mean  MI_dir_L5_variance  \\\n",
              "0               1.000000      566.000000        0.000000e+00   \n",
              "1               1.996585      566.000000        5.820000e-11   \n",
              "2               2.958989      566.000000        0.000000e+00   \n",
              "3               3.958979      566.000000        0.000000e+00   \n",
              "4               4.914189      566.000000        1.160000e-10   \n",
              "...                  ...             ...                 ...   \n",
              "279987         39.256165      504.003978        2.219839e+04   \n",
              "279988         40.255905      505.245933        2.170751e+04   \n",
              "279989         41.255606      506.427690        2.123756e+04   \n",
              "279990         42.255469      507.553516        2.078725e+04   \n",
              "279991         43.240249      508.627665        2.035525e+04   \n",
              "\n",
              "        MI_dir_L3_weight  MI_dir_L3_mean  MI_dir_L3_variance  \\\n",
              "0               1.000000      566.000000        0.000000e+00   \n",
              "1               1.997950      566.000000        5.820000e-11   \n",
              "2               2.975291      566.000000        5.820000e-11   \n",
              "3               3.975285      566.000000        0.000000e+00   \n",
              "4               4.948239      566.000000        5.820000e-11   \n",
              "...                  ...             ...                 ...   \n",
              "279987         66.495961      426.545257        4.671683e+04   \n",
              "279988         67.495697      428.433595        4.626179e+04   \n",
              "279989         68.495396      430.266805        4.581322e+04   \n",
              "279990         69.495260      432.047260        4.537113e+04   \n",
              "279991         70.480240      433.777571        4.493541e+04   \n",
              "\n",
              "        MI_dir_L1_weight  MI_dir_L1_mean  MI_dir_L1_variance  \\\n",
              "0               1.000000      566.000000        0.000000e+00   \n",
              "1               1.999316      566.000000        0.000000e+00   \n",
              "2               2.991729      566.000000        5.820000e-11   \n",
              "3               3.991727      566.000000        1.160000e-10   \n",
              "4               4.982654      566.000000        5.820000e-11   \n",
              "...                  ...             ...                 ...   \n",
              "279987        259.096457      328.198231        6.054598e+04   \n",
              "279988        260.096115      329.066378        6.050847e+04   \n",
              "279989        261.095728      329.927877        6.046976e+04   \n",
              "279990        262.095555      330.782802        6.042988e+04   \n",
              "279991        263.076671      331.631290        6.038885e+04   \n",
              "\n",
              "        MI_dir_L0.1_weight  ...  HpHp_L0.1_radius  HpHp_L0.1_covariance  \\\n",
              "0                 1.000000  ...      0.000000e+00                   0.0   \n",
              "1                 1.999932  ...      0.000000e+00                   0.0   \n",
              "2                 2.999171  ...      0.000000e+00                   0.0   \n",
              "3                 3.999171  ...      0.000000e+00                   0.0   \n",
              "4                 4.998261  ...      0.000000e+00                   0.0   \n",
              "...                    ...  ...               ...                   ...   \n",
              "279987         2788.201337  ...      5.240000e-10                   0.0   \n",
              "279988         2789.200968  ...      4.660000e-10                   0.0   \n",
              "279989         2790.200553  ...      5.240000e-10                   0.0   \n",
              "279990         2791.200369  ...      4.660000e-10                   0.0   \n",
              "279991         2792.180258  ...      4.660000e-10                   0.0   \n",
              "\n",
              "        HpHp_L0.1_pcc  HpHp_L0.01_weight  HpHp_L0.01_mean  HpHp_L0.01_std  \\\n",
              "0                 0.0           1.000000            566.0        0.000000   \n",
              "1                 0.0           1.000000            566.0        0.000000   \n",
              "2                 0.0           1.000000            566.0        0.000000   \n",
              "3                 0.0           1.000000            566.0        0.000000   \n",
              "4                 0.0           1.000000            566.0        0.000000   \n",
              "...               ...                ...              ...             ...   \n",
              "279987            0.0        3132.118867            554.0        0.000037   \n",
              "279988            0.0        3133.118826            554.0        0.000037   \n",
              "279989            0.0        3134.118779            554.0        0.000037   \n",
              "279990            0.0        3135.118758            554.0        0.000039   \n",
              "279991            0.0        3136.116499            554.0        0.000037   \n",
              "\n",
              "        HpHp_L0.01_magnitude  HpHp_L0.01_radius  HpHp_L0.01_covariance  \\\n",
              "0                      566.0       0.000000e+00                    0.0   \n",
              "1                      566.0       0.000000e+00                    0.0   \n",
              "2                      566.0       0.000000e+00                    0.0   \n",
              "3                      566.0       0.000000e+00                    0.0   \n",
              "4                      566.0       0.000000e+00                    0.0   \n",
              "...                      ...                ...                    ...   \n",
              "279987                 554.0       1.400000e-09                    0.0   \n",
              "279988                 554.0       1.400000e-09                    0.0   \n",
              "279989                 554.0       1.400000e-09                    0.0   \n",
              "279990                 554.0       1.510000e-09                    0.0   \n",
              "279991                 554.0       1.400000e-09                    0.0   \n",
              "\n",
              "        HpHp_L0.01_pcc  \n",
              "0                  0.0  \n",
              "1                  0.0  \n",
              "2                  0.0  \n",
              "3                  0.0  \n",
              "4                  0.0  \n",
              "...                ...  \n",
              "279987             0.0  \n",
              "279988             0.0  \n",
              "279989             0.0  \n",
              "279990             0.0  \n",
              "279991             0.0  \n",
              "\n",
              "[279992 rows x 115 columns]"
            ]
          },
          "execution_count": 4,
          "metadata": {},
          "output_type": "execute_result"
        }
      ],
      "source": [
        "X"
      ]
    },
    {
      "cell_type": "markdown",
      "metadata": {
        "id": "4S17F7dAnywO"
      },
      "source": [
        "#Using blobs to get organized output"
      ]
    },
    {
      "cell_type": "code",
      "execution_count": null,
      "metadata": {
        "colab": {
          "base_uri": "https://localhost:8080/",
          "height": 299
        },
        "id": "bZZ9ARwzaGoz",
        "outputId": "8f29c17e-9ba9-4fd9-9f81-cfcfe48a6061"
      },
      "outputs": [
        {
          "name": "stdout",
          "output_type": "stream",
          "text": [
            "Dataset Size :  (279992, 2) (279992,)\n"
          ]
        },
        {
          "data": {
            "image/png": "[encoded data removed]",
            "text/plain": [
              "<Figure size 432x288 with 1 Axes>"
            ]
          },
          "metadata": {},
          "output_type": "display_data"
        }
      ],
      "source": [
        "from sklearn.datasets import make_blobs\n",
        "from matplotlib import pyplot as plt\n",
        "X, y = make_blobs(n_samples=279992, centers=8, cluster_std=0.5,random_state=20)\n",
        "print('Dataset Size : ',X.shape, y.shape)\n",
        "with plt.style.context(\"ggplot\"):\n",
        "      plt.scatter(X[:,0],X[:,1], c = y, marker=\"o\", s=10)\n",
        "      plt.title(\"Original Data\");"
      ]
    },
    {
      "cell_type": "code",
      "execution_count": null,
      "metadata": {
        "id": "7VTrBYVgC-gg"
      },
      "outputs": [],
      "source": [
        "from sklearn.decomposition import PCA"
      ]
    },
    {
      "cell_type": "markdown",
      "metadata": {
        "id": "mxiB9cqsnon8"
      },
      "source": [
        "#Applying PCA to the dataset"
      ]
    },
    {
      "cell_type": "code",
      "execution_count": null,
      "metadata": {
        "colab": {
          "base_uri": "https://localhost:8080/",
          "height": 206
        },
        "id": "bWARd2Zd_vzI",
        "outputId": "a194fad3-ff4f-48fb-a011-56b631f74f19"
      },
      "outputs": [
        {
          "data": {
            "text/html": [
              "\n",
              "  <div id=\"df-9d031e28-2331-4b5a-b580-420c9cbf7bf3\">\n",
              "    <div class=\"colab-df-container\">\n",
              "      <div>\n",
              "<style scoped>\n",
              "    .dataframe tbody tr th:only-of-type {\n",
              "        vertical-align: middle;\n",
              "    }\n",
              "\n",
              "    .dataframe tbody tr th {\n",
              "        vertical-align: top;\n",
              "    }\n",
              "\n",
              "    .dataframe thead th {\n",
              "        text-align: right;\n",
              "    }\n",
              "</style>\n",
              "<table border=\"1\" class=\"dataframe\">\n",
              "  <thead>\n",
              "    <tr style=\"text-align: right;\">\n",
              "      <th></th>\n",
              "      <th>P1</th>\n",
              "      <th>P2</th>\n",
              "    </tr>\n",
              "  </thead>\n",
              "  <tbody>\n",
              "    <tr>\n",
              "      <th>0</th>\n",
              "      <td>-0.951008</td>\n",
              "      <td>-0.172827</td>\n",
              "    </tr>\n",
              "    <tr>\n",
              "      <th>1</th>\n",
              "      <td>-0.060624</td>\n",
              "      <td>1.084892</td>\n",
              "    </tr>\n",
              "    <tr>\n",
              "      <th>2</th>\n",
              "      <td>-0.602179</td>\n",
              "      <td>-0.699536</td>\n",
              "    </tr>\n",
              "    <tr>\n",
              "      <th>3</th>\n",
              "      <td>0.979408</td>\n",
              "      <td>-0.174704</td>\n",
              "    </tr>\n",
              "    <tr>\n",
              "      <th>4</th>\n",
              "      <td>-0.541897</td>\n",
              "      <td>-0.743233</td>\n",
              "    </tr>\n",
              "  </tbody>\n",
              "</table>\n",
              "</div>\n",
              "      <button class=\"colab-df-convert\" onclick=\"convertToInteractive('df-9d031e28-2331-4b5a-b580-420c9cbf7bf3')\"\n",
              "              title=\"Convert this dataframe to an interactive table.\"\n",
              "              style=\"display:none;\">\n",
              "        \n",
              "  <svg xmlns=\"http://www.w3.org/2000/svg\" height=\"24px\"viewBox=\"0 0 24 24\"\n",
              "       width=\"24px\">\n",
              "    <path d=\"M0 0h24v24H0V0z\" fill=\"none\"/>\n",
              "    <path d=\"M18.56 5.44l.94 2.06.94-2.06 2.06-.94-2.06-.94-.94-2.06-.94 2.06-2.06.94zm-11 1L8.5 8.5l.94-2.06 2.06-.94-2.06-.94L8.5 2.5l-.94 2.06-2.06.94zm10 10l.94 2.06.94-2.06 2.06-.94-2.06-.94-.94-2.06-.94 2.06-2.06.94z\"/><path d=\"M17.41 7.96l-1.37-1.37c-.4-.4-.92-.59-1.43-.59-.52 0-1.04.2-1.43.59L10.3 9.45l-7.72 7.72c-.78.78-.78 2.05 0 2.83L4 21.41c.39.39.9.59 1.41.59.51 0 1.02-.2 1.41-.59l7.78-7.78 2.81-2.81c.8-.78.8-2.07 0-2.86zM5.41 20L4 18.59l7.72-7.72 1.47 1.35L5.41 20z\"/>\n",
              "  </svg>\n",
              "      </button>\n",
              "      \n",
              "  <style>\n",
              "    .colab-df-container {\n",
              "      display:flex;\n",
              "      flex-wrap:wrap;\n",
              "      gap: 12px;\n",
              "    }\n",
              "\n",
              "    .colab-df-convert {\n",
              "      background-color: #E8F0FE;\n",
              "      border: none;\n",
              "      border-radius: 50%;\n",
              "      cursor: pointer;\n",
              "      display: none;\n",
              "      fill: #1967D2;\n",
              "      height: 32px;\n",
              "      padding: 0 0 0 0;\n",
              "      width: 32px;\n",
              "    }\n",
              "\n",
              "    .colab-df-convert:hover {\n",
              "      background-color: #E2EBFA;\n",
              "      box-shadow: 0px 1px 2px rgba(60, 64, 67, 0.3), 0px 1px 3px 1px rgba(60, 64, 67, 0.15);\n",
              "      fill: #174EA6;\n",
              "    }\n",
              "\n",
              "    [theme=dark] .colab-df-convert {\n",
              "      background-color: #3B4455;\n",
              "      fill: #D2E3FC;\n",
              "    }\n",
              "\n",
              "    [theme=dark] .colab-df-convert:hover {\n",
              "      background-color: #434B5C;\n",
              "      box-shadow: 0px 1px 3px 1px rgba(0, 0, 0, 0.15);\n",
              "      filter: drop-shadow(0px 1px 2px rgba(0, 0, 0, 0.3));\n",
              "      fill: #FFFFFF;\n",
              "    }\n",
              "  </style>\n",
              "\n",
              "      <script>\n",
              "        const buttonEl =\n",
              "          document.querySelector('#df-9d031e28-2331-4b5a-b580-420c9cbf7bf3 button.colab-df-convert');\n",
              "        buttonEl.style.display =\n",
              "          google.colab.kernel.accessAllowed ? 'block' : 'none';\n",
              "\n",
              "        async function convertToInteractive(key) {\n",
              "          const element = document.querySelector('#df-9d031e28-2331-4b5a-b580-420c9cbf7bf3');\n",
              "          const dataTable =\n",
              "            await google.colab.kernel.invokeFunction('convertToInteractive',\n",
              "                                                     [key], {});\n",
              "          if (!dataTable) return;\n",
              "\n",
              "          const docLinkHtml = 'Like what you see? Visit the ' +\n",
              "            '<a target=\"_blank\" href=https://colab.research.google.com/notebooks/data_table.ipynb>data table notebook</a>'\n",
              "            + ' to learn more about interactive tables.';\n",
              "          element.innerHTML = '';\n",
              "          dataTable['output_type'] = 'display_data';\n",
              "          await google.colab.output.renderOutput(dataTable, element);\n",
              "          const docLink = document.createElement('div');\n",
              "          docLink.innerHTML = docLinkHtml;\n",
              "          element.appendChild(docLink);\n",
              "        }\n",
              "      </script>\n",
              "    </div>\n",
              "  </div>\n",
              "  "
            ],
            "text/plain": [
              "         P1        P2\n",
              "0 -0.951008 -0.172827\n",
              "1 -0.060624  1.084892\n",
              "2 -0.602179 -0.699536\n",
              "3  0.979408 -0.174704\n",
              "4 -0.541897 -0.743233"
            ]
          },
          "execution_count": 7,
          "metadata": {},
          "output_type": "execute_result"
        }
      ],
      "source": [
        "# Preprocessing the data to make it visualizable\n",
        "\n",
        "# Scaling the Data\n",
        "scaler = StandardScaler()\n",
        "X_scaled = scaler.fit_transform(X)\n",
        "\n",
        "# Normalizing the Data\n",
        "X_normalized = normalize(X_scaled)\n",
        "\n",
        "# Converting the numpy array into a pandas DataFrame\n",
        "X_normalized = pd.DataFrame(X_normalized)\n",
        "\n",
        "# Reducing the dimensions of the data\n",
        "pca = PCA(n_components = 2)\n",
        "X_principal = pca.fit_transform(X_normalized)\n",
        "X_principal= pd.DataFrame(X_principal)\n",
        "X_principal.columns = ['P1', 'P2']\n",
        "\n",
        "X_principal.head()\n"
      ]
    },
    {
      "cell_type": "markdown",
      "metadata": {
        "id": "46yXZytRfbLB"
      },
      "source": [
        "#PCA ON 8 Clusters"
      ]
    },
    {
      "cell_type": "code",
      "execution_count": null,
      "metadata": {
        "id": "gEvu0WVoAlZk"
      },
      "outputs": [],
      "source": [
        "\n",
        "# Building the clustering model\n",
        "model = KMeans(n_clusters = 8)\n",
        "  \n",
        "# Training the model and Storing the predicted cluster labels\n",
        "labels= model.fit_predict(X_principal)\n"
      ]
    },
    {
      "cell_type": "code",
      "execution_count": null,
      "metadata": {
        "colab": {
          "base_uri": "https://localhost:8080/",
          "height": 854
        },
        "id": "h4Md9LuYDR3K",
        "outputId": "083e515e-8374-48d0-d1ff-729737038bf0"
      },
      "outputs": [
        {
          "data": {
            "image/png": "[encoded data removed]",
            "text/plain": [
              "<Figure size 432x288 with 1 Axes>"
            ]
          },
          "metadata": {},
          "output_type": "display_data"
        },
        {
          "data": {
            "image/png": "[encoded data removed]",
            "text/plain": [
              "<Figure size 720x720 with 1 Axes>"
            ]
          },
          "metadata": {},
          "output_type": "display_data"
        }
      ],
      "source": [
        "# Building the label to colour mapping\n",
        "colours = {}\n",
        "colours[0] = 'blue'\n",
        "colours[1] = 'yellow'\n",
        "colours[2] = 'red'\n",
        "colours[3] = 'green'\n",
        "colours[4] ='black'\n",
        "colours[5] ='purple'\n",
        "colours[6] ='grey'\n",
        "colours[7]='cyan'\n",
        "colours[8]='pink'\n",
        "\n",
        "\n",
        "# Building the colour vector for each data point\n",
        "cvec = [colours[label] for label in labels]\n",
        "\n",
        "# Plotting the clustered scatter plot\n",
        "\n",
        "blue = plt.scatter(X_principal['P1'], X_principal['P2'], color ='blue');\n",
        "yellow = plt.scatter(X_principal['P1'], X_principal['P2'], color ='yellow');\n",
        "red = plt.scatter(X_principal['P1'], X_principal['P2'], color ='red');\n",
        "green = plt.scatter(X_principal['P1'], X_principal['P2'], color ='green');\n",
        "black = plt.scatter(X_principal['P1'], X_principal['P2'], color ='black');\n",
        "purple = plt.scatter(X_principal['P1'], X_principal['P2'], color ='purple');\n",
        "grey = plt.scatter(X_principal['P1'], X_principal['P2'], color ='grey');\n",
        "cyan = plt.scatter(X_principal['P1'], X_principal['P2'], color ='cyan');\n",
        "pink = plt.scatter(X_principal['P1'], X_principal['P2'], color ='pink');\n",
        "plt.figure(figsize =(10, 10))\n",
        "plt.scatter(X_principal['P1'], X_principal['P2'], c = cvec)\n",
        "plt.xlabel(\"PC1\")\n",
        "plt.ylabel(\"PC2\")\n",
        "plt.legend((blue, yellow,red,green,black,purple,grey,cyan,pink), ('cluster 0', 'cluster 1','cluster 2','cluster 3','cluster 4','cluster 5','cluster 6','cluster7'))\n",
        "plt.show()\n"
      ]
    },
    {
      "cell_type": "markdown",
      "metadata": {
        "id": "SDXm8-xFfyeZ"
      },
      "source": [
        "#calinski_harabasz evaluation"
      ]
    },
    {
      "cell_type": "code",
      "execution_count": null,
      "metadata": {
        "colab": {
          "base_uri": "https://localhost:8080/"
        },
        "id": "CQk_t-hRrzKx",
        "outputId": "978bff17-9522-4875-b77e-715581723c76"
      },
      "outputs": [
        {
          "data": {
            "text/plain": [
              "7461385.697973652"
            ]
          },
          "execution_count": 10,
          "metadata": {},
          "output_type": "execute_result"
        }
      ],
      "source": [
        "from sklearn import metrics\n",
        "metrics.calinski_harabasz_score(X_principal,labels)\n"
      ]
    },
    {
      "cell_type": "markdown",
      "metadata": {
        "id": "X4SK_iZJlyUx"
      },
      "source": [
        "#silhouette evaluation"
      ]
    },
    {
      "cell_type": "code",
      "execution_count": null,
      "metadata": {
        "colab": {
          "base_uri": "https://localhost:8080/"
        },
        "id": "0iG0zC4IPNIS",
        "outputId": "ae2c20ca-6db8-46d9-9329-e154c24d527c"
      },
      "outputs": [
        {
          "data": {
            "text/plain": [
              "0.7522319235838759"
            ]
          },
          "execution_count": 19,
          "metadata": {},
          "output_type": "execute_result"
        }
      ],
      "source": [
        "metrics.silhouette_score(X_principal,labels)"
      ]
    },
    {
      "cell_type": "markdown",
      "metadata": {
        "id": "bp5LLHpEl88o"
      },
      "source": [
        "#PCA on 6 clusters"
      ]
    },
    {
      "cell_type": "code",
      "execution_count": null,
      "metadata": {
        "id": "QqJelOD1PdiI"
      },
      "outputs": [],
      "source": [
        "\n",
        "# Building the clustering model\n",
        "model = KMeans(n_clusters = 6)\n",
        "  \n",
        "# Training the model and Storing the predicted cluster labels\n",
        "labels= model.fit_predict(X_principal)"
      ]
    },
    {
      "cell_type": "code",
      "execution_count": null,
      "metadata": {
        "colab": {
          "base_uri": "https://localhost:8080/",
          "height": 582
        },
        "id": "cT5BzhvcSNe8",
        "outputId": "1fb9ce5c-56a1-42c2-8753-3268309fe883"
      },
      "outputs": [
        {
          "data": {
            "image/png": "[encoded data removed]",
            "text/plain": [
              "<Figure size 432x288 with 1 Axes>"
            ]
          },
          "metadata": {},
          "output_type": "display_data"
        },
        {
          "data": {
            "image/png": "[encoded data removed]",
            "text/plain": [
              "<Figure size 360x360 with 1 Axes>"
            ]
          },
          "metadata": {},
          "output_type": "display_data"
        }
      ],
      "source": [
        "colours = {}\n",
        "colours[0] = 'blue'\n",
        "colours[1] = 'yellow'\n",
        "colours[2] = 'red'\n",
        "colours[3] = 'green'\n",
        "colours[4] ='black'\n",
        "colours[5] ='purple'\n",
        "colours[6] ='grey'\n",
        "\n",
        "\n",
        "\n",
        "# Building the colour vector for each data point\n",
        "cvec=[colours[label] for label in labels]\n",
        "\n",
        "# Plotting the clustered scatter plot\n",
        "\n",
        "blue = plt.scatter(X_principal['P1'], X_principal['P2'], color ='blue');\n",
        "yellow = plt.scatter(X_principal['P1'], X_principal['P2'], color ='yellow');\n",
        "red = plt.scatter(X_principal['P1'], X_principal['P2'], color ='red');\n",
        "green = plt.scatter(X_principal['P1'], X_principal['P2'], color ='green');\n",
        "black = plt.scatter(X_principal['P1'], X_principal['P2'], color ='black');\n",
        "purple = plt.scatter(X_principal['P1'], X_principal['P2'], color ='purple');\n",
        "grey = plt.scatter(X_principal['P1'], X_principal['P2'], color ='grey');\n",
        "\n",
        "plt.figure(figsize =(5, 5))\n",
        "plt.scatter(X_principal['P1'], X_principal['P2'], c = cvec)\n",
        "plt.xlabel(\"PC1\")\n",
        "plt.ylabel(\"PC2\")\n",
        "plt.legend((blue, yellow,red,green,black,purple,grey,cyan,pink), ('cluster 0', 'cluster 1','cluster 2','cluster 3','cluster 4','cluster 5'))\n",
        "plt.show()"
      ]
    },
    {
      "cell_type": "markdown",
      "metadata": {
        "id": "keexRRs8mGKb"
      },
      "source": [
        "#calinski_harabasz evaluation"
      ]
    },
    {
      "cell_type": "code",
      "execution_count": null,
      "metadata": {
        "colab": {
          "base_uri": "https://localhost:8080/"
        },
        "id": "EjB1I-LyShgs",
        "outputId": "626e13d2-36ea-4c85-c318-205dbf432f30"
      },
      "outputs": [
        {
          "data": {
            "text/plain": [
              "5549244.952582864"
            ]
          },
          "execution_count": 22,
          "metadata": {},
          "output_type": "execute_result"
        }
      ],
      "source": [
        "from sklearn import metrics\n",
        "metrics.calinski_harabasz_score(X_principal,labels)"
      ]
    },
    {
      "cell_type": "markdown",
      "metadata": {
        "id": "97939_JxmLWL"
      },
      "source": [
        "#silhouette evaluation"
      ]
    },
    {
      "cell_type": "code",
      "execution_count": null,
      "metadata": {
        "colab": {
          "base_uri": "https://localhost:8080/"
        },
        "id": "gF6Y406ISvNM",
        "outputId": "86d470c4-c780-4f27-eb49-25f9ebeb7c1a"
      },
      "outputs": [
        {
          "data": {
            "text/plain": [
              "0.800001689925367"
            ]
          },
          "execution_count": 23,
          "metadata": {},
          "output_type": "execute_result"
        }
      ],
      "source": [
        "metrics.silhouette_score(X_principal,labels)"
      ]
    },
    {
      "cell_type": "markdown",
      "metadata": {
        "id": "akkNVTFkmTKA"
      },
      "source": [
        "#PCA on 4 clusters"
      ]
    },
    {
      "cell_type": "code",
      "execution_count": null,
      "metadata": {
        "id": "tp7RnrprS3jS"
      },
      "outputs": [],
      "source": [
        "# Building the clustering model\n",
        "model = KMeans(n_clusters = 4)\n",
        "  \n",
        "# Training the model and Storing the predicted cluster labels\n",
        "labels= model.fit_predict(X_principal)"
      ]
    },
    {
      "cell_type": "code",
      "execution_count": null,
      "metadata": {
        "colab": {
          "base_uri": "https://localhost:8080/",
          "height": 690
        },
        "id": "rYOuSW8qT0xx",
        "outputId": "cb95f2fa-0fd7-4f1b-ae9c-451fd1061484"
      },
      "outputs": [
        {
          "data": {
            "image/png": "[encoded data removed]",
            "text/plain": [
              "<Figure size 432x288 with 1 Axes>"
            ]
          },
          "metadata": {},
          "output_type": "display_data"
        },
        {
          "data": {
            "image/png": "[encoded data removed]",
            "text/plain": [
              "<Figure size 504x504 with 1 Axes>"
            ]
          },
          "metadata": {},
          "output_type": "display_data"
        }
      ],
      "source": [
        "colours = {}\n",
        "colours[0] = 'blue'\n",
        "colours[1] = 'yellow'\n",
        "colours[2] = 'red'\n",
        "colours[3] = 'green'\n",
        "colours[4] ='black'\n",
        "\n",
        "\n",
        "\n",
        "\n",
        "# Building the colour vector for each data point\n",
        "cvec = [colours[label] for label in labels]\n",
        "\n",
        "# Plotting the clustered scatter plot\n",
        "\n",
        "blue = plt.scatter(X_principal['P1'], X_principal['P2'], color ='blue');\n",
        "yellow = plt.scatter(X_principal['P1'], X_principal['P2'], color ='yellow');\n",
        "red = plt.scatter(X_principal['P1'], X_principal['P2'], color ='red');\n",
        "green = plt.scatter(X_principal['P1'], X_principal['P2'], color ='green');\n",
        "black = plt.scatter(X_principal['P1'], X_principal['P2'], color ='black');\n",
        "\n",
        "\n",
        "plt.figure(figsize =(7, 7))\n",
        "plt.scatter(X_principal['P1'], X_principal['P2'], c = cvec)\n",
        "plt.xlabel(\"PC1\")\n",
        "plt.ylabel(\"PC2\")\n",
        "plt.legend((blue, yellow,red,green,black,purple,grey,cyan,pink), ('cluster 0', 'cluster 1','cluster 2','cluster 3'))\n",
        "plt.show()"
      ]
    },
    {
      "cell_type": "markdown",
      "metadata": {
        "id": "G1MT2vn_ma3D"
      },
      "source": [
        "#calinski_harabasz evaluation"
      ]
    },
    {
      "cell_type": "code",
      "execution_count": null,
      "metadata": {
        "colab": {
          "base_uri": "https://localhost:8080/"
        },
        "id": "Suv4Ls1EUCxy",
        "outputId": "034c1e65-b586-467d-aeac-8a233d8d3c32"
      },
      "outputs": [
        {
          "data": {
            "text/plain": [
              "1784952.4282710096"
            ]
          },
          "execution_count": 26,
          "metadata": {},
          "output_type": "execute_result"
        }
      ],
      "source": [
        "from sklearn import metrics\n",
        "metrics.calinski_harabasz_score(X_principal,labels)"
      ]
    },
    {
      "cell_type": "markdown",
      "metadata": {
        "id": "mM3zWusnmjYy"
      },
      "source": [
        "#Silhouette evaluation"
      ]
    },
    {
      "cell_type": "code",
      "execution_count": null,
      "metadata": {
        "colab": {
          "base_uri": "https://localhost:8080/"
        },
        "id": "8ZkP687lUHUy",
        "outputId": "4df1bce0-5225-48cc-8d43-b631fddc7ed5"
      },
      "outputs": [
        {
          "data": {
            "text/plain": [
              "0.8039030545018329"
            ]
          },
          "execution_count": 27,
          "metadata": {},
          "output_type": "execute_result"
        }
      ],
      "source": [
        "metrics.silhouette_score(X_principal,labels)"
      ]
    },
    {
      "cell_type": "markdown",
      "metadata": {
        "id": "KMrr_uORmprj"
      },
      "source": [
        "#PCA ON 2 clusters"
      ]
    },
    {
      "cell_type": "code",
      "execution_count": null,
      "metadata": {
        "id": "6e0BKJ3OURND"
      },
      "outputs": [],
      "source": [
        "# Building the clustering model\n",
        "model = KMeans(n_clusters = 2)\n",
        "  \n",
        "# Training the model and Storing the predicted cluster labels\n",
        "labels= model.fit_predict(X_principal)"
      ]
    },
    {
      "cell_type": "code",
      "execution_count": null,
      "metadata": {
        "colab": {
          "base_uri": "https://localhost:8080/",
          "height": 676
        },
        "id": "KgXoQgOyVkwQ",
        "outputId": "1190b42a-8a99-431b-8ae8-1ff1b7718ef0"
      },
      "outputs": [
        {
          "data": {
            "image/png": "[encoded data removed]",
            "text/plain": [
              "<Figure size 432x288 with 1 Axes>"
            ]
          },
          "metadata": {},
          "output_type": "display_data"
        },
        {
          "data": {
            "image/png": "[encoded data removed]",
            "text/plain": [
              "<Figure size 504x504 with 1 Axes>"
            ]
          },
          "metadata": {},
          "output_type": "display_data"
        }
      ],
      "source": [
        "\n",
        "colours = {}\n",
        "colours[0] = 'blue'\n",
        "colours[1] = 'yellow'\n",
        "colours[2] = 'red'\n",
        "\n",
        "\n",
        "\n",
        "\n",
        "\n",
        "# Building the colour vector for each data point\n",
        "cvec = [colours[label] for label in labels]\n",
        "\n",
        "# Plotting the clustered scatter plot\n",
        "\n",
        "blue = plt.scatter(X_principal['P1'], X_principal['P2'], color ='blue');\n",
        "yellow = plt.scatter(X_principal['P1'], X_principal['P2'], color ='yellow');\n",
        "red = plt.scatter(X_principal['P1'], X_principal['P2'], color ='red');\n",
        "\n",
        "\n",
        "\n",
        "plt.figure(figsize =(7, 7))\n",
        "plt.scatter(X_principal['P1'], X_principal['P2'], c = cvec)\n",
        "plt.legend((blue, yellow,red,green,black,purple,grey,cyan,pink), ('cluster 0', 'cluster 1'))\n",
        "plt.show()"
      ]
    },
    {
      "cell_type": "markdown",
      "metadata": {
        "id": "05ayYepAmxK7"
      },
      "source": [
        "#calinski_harabasz evaluation"
      ]
    },
    {
      "cell_type": "code",
      "execution_count": null,
      "metadata": {
        "colab": {
          "base_uri": "https://localhost:8080/"
        },
        "id": "Z_c_rnWYV-OQ",
        "outputId": "399a371e-238b-45ef-c77f-d47a4acdf5aa"
      },
      "outputs": [
        {
          "data": {
            "text/plain": [
              "282291.1718952348"
            ]
          },
          "execution_count": 30,
          "metadata": {},
          "output_type": "execute_result"
        }
      ],
      "source": [
        "from sklearn import metrics\n",
        "metrics.calinski_harabasz_score(X_principal,labels)"
      ]
    },
    {
      "cell_type": "markdown",
      "metadata": {
        "id": "P0OkliR_m3Aa"
      },
      "source": [
        "#silhouette evaluation"
      ]
    },
    {
      "cell_type": "code",
      "execution_count": null,
      "metadata": {
        "colab": {
          "base_uri": "https://localhost:8080/"
        },
        "id": "0u9WIqKdWDRR",
        "outputId": "3174e887-d65d-4d35-826c-5b6e29c60317"
      },
      "outputs": [
        {
          "data": {
            "text/plain": [
              "0.5616605028496423"
            ]
          },
          "execution_count": 31,
          "metadata": {},
          "output_type": "execute_result"
        }
      ],
      "source": [
        "metrics.silhouette_score(X_principal,labels)"
      ]
    }
  ],
  "metadata": {
    "colab": {
      "collapsed_sections": [],
      "provenance": []
    },
    "kernelspec": {
      "display_name": "Python 3",
      "name": "python3"
    },
    "language_info": {
      "name": "python"
    }
  },
  "nbformat": 4,
  "nbformat_minor": 0
}